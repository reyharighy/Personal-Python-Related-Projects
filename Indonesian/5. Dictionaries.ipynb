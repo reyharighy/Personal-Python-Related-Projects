{
 "cells": [
  {
   "cell_type": "markdown",
   "metadata": {},
   "source": [
    "# **1. Dictionary**\n",
    "\n",
    "Dalam Python, *dictionary* adalah tipe data koleksi yang mana tiap item di dalamnya tidak disusun secara berurutan, seperti di dalam *list*. Tiap *item* diwakilkan dalam bentuk pasangan *key-value*. \n",
    "\n",
    "Tidak seperti *list*, tiap nilai dari suatu *item* diakses dengan memberikan kata kunci yang sesuai. Kamu bisa mempelajari lebih lanjut pada link berikut: [Dictionaries](https://docs.python.org/3/tutorial/datastructures.html#dictionaries).\n",
    "\n",
    "**Syntax:**\n",
    "```\n",
    "dictionary = {\n",
    "    key1: value1\n",
    "    key2: value2\n",
    "    ...\n",
    "    ...\n",
    "    keyn: valuen\n",
    "}\n",
    "\n",
    "# untuk mengakses value1\n",
    "dictionary[key1]\n",
    "```\n",
    "**Contoh Kode:**"
   ]
  },
  {
   "cell_type": "code",
   "execution_count": 1,
   "metadata": {},
   "outputs": [
    {
     "name": "stdout",
     "output_type": "stream",
     "text": [
      "====================Data Awal=====================\n",
      " {'nama': 'Budi', 'umur': 17, 'kota': 'Jakarta'}\n",
      "\n",
      "====================Data Akhir====================\n",
      " {'nama': 'Budi', 'umur': 15, 'kota': 'Jakarta', 'email': 'budi@mail.com'}\n"
     ]
    }
   ],
   "source": [
    "# membuat sebuah dictionary\n",
    "siswa = {\n",
    "    'nama': 'Budi',\n",
    "    'umur': 17,\n",
    "    'kota': 'Jakarta'\n",
    "}\n",
    "\n",
    "# melihat data awal\n",
    "print(\"Data Awal\".center(50, '=') + '\\n', siswa)\n",
    "\n",
    "# menambahkan data baru\n",
    "siswa['email'] = 'budi@mail.com'\n",
    "\n",
    "# memperbarui data yang sudah ada\n",
    "siswa['umur'] = 15\n",
    "\n",
    "# melihat data akhir\n",
    "print('\\n' + \"Data Akhir\".center(50, '=') + '\\n', siswa)"
   ]
  },
  {
   "cell_type": "markdown",
   "metadata": {},
   "source": [
    "# **2. Dictionary Methods**\n",
    "\n",
    "*Dictionary* menyediakan berbagai metode bawaan yang membantu dalam melakukan berbagai macam operasi yang berkaitan. Beberapa diantaranya adalah:\n",
    "- `keys()`: Mengembalikan sebuah *list* dari seluruh kunci yang ada di dalam *dictionary*.\n",
    "- `values()`: Mengembalikan sebuah *list* dari seluruh nilai yang ada di dalam *dictionary*.\n",
    "- `items()`: Mengembalikan sebuah *list* dari seluruh pasangan kunci dan nilai yang ada di dalam *dictionary*.\n",
    "- `get()`: Mengembalikan nilai dari kunci yang diberikan.\n",
    "- `pop()`: Menghapus *item* dari kunci yang diberikan.\n",
    "\n",
    "**Contoh Kode:**"
   ]
  },
  {
   "cell_type": "code",
   "execution_count": 2,
   "metadata": {},
   "outputs": [
    {
     "name": "stdout",
     "output_type": "stream",
     "text": [
      "Kunci variabel siswa -> dict_keys(['nama', 'umur', 'kota'])\n",
      "Nilai variabel siswa -> dict_values(['Budi', 17, 'Jakarta'])\n",
      "Item variabel siswa -> dict_items([('nama', 'Budi'), ('umur', 17), ('kota', 'Jakarta')])\n",
      "\n",
      "Nilai dari kunci nama -> Budi\n",
      "Nilai dari kunci email -> Tidak ditemukan\n",
      "\n",
      "Item setelah umur dihapus -> {'nama': 'Budi', 'kota': 'Jakarta'}\n"
     ]
    }
   ],
   "source": [
    "siswa = {\n",
    "    'nama': 'Budi',\n",
    "    'umur': 17,\n",
    "    'kota': 'Jakarta'\n",
    "}\n",
    "\n",
    "# mencetak item\n",
    "print(f'Kunci variabel siswa -> {siswa.keys()}')\n",
    "print(f'Nilai variabel siswa -> {siswa.values()}')\n",
    "print(f'Item variabel siswa -> {siswa.items()}')\n",
    "\n",
    "# menggunakan metode get()\n",
    "print(f'\\nNilai dari kunci nama -> {siswa.get(\"nama\")}')\n",
    "print(f'Nilai dari kunci email -> {siswa.get(\"email\", \"Tidak ditemukan\")}')\n",
    "\n",
    "# menggunakan metode pop()\n",
    "siswa.pop('umur')\n",
    "print(f'\\nItem setelah umur dihapus -> {siswa}')"
   ]
  },
  {
   "cell_type": "markdown",
   "metadata": {},
   "source": [
    "# **3. Nesting**\n",
    "\n",
    "*Nesting* dalam *dictionary* berarti adanya *dictionary* di dalam sebuah *dictionary*. Dengan demikian, hal ini menyediakan stuktur data yang lebih kompleks.\n",
    "\n",
    "**Contoh Kode:**"
   ]
  },
  {
   "cell_type": "code",
   "execution_count": 3,
   "metadata": {},
   "outputs": [
    {
     "name": "stdout",
     "output_type": "stream",
     "text": [
      "===================Daftar Siswa===================\n",
      "{1: {'nama': 'Anita', 'umur': 13, 'kursus': ['Matematika', 'Fisika']}, 2: {'nama': 'Budi', 'umur': 15, 'kursus': ['Biologi', 'Kimia']}, 3: {'nama': 'Caca', 'Umur': 12, 'kursus': ['Ekonomi']}, 4: {'nama': 'Dinda', 'umur': 13, 'kursus': ['Psikologi', 'Ekonomi', 'Bahasa Indonesia']}}\n",
      "\n",
      "Mengakses nama siswa pertama -> Anita\n",
      "Mengakses kursus siswa keempat -> ['Psikologi', 'Ekonomi', 'Bahasa Indonesia']\n"
     ]
    },
    {
     "ename": "KeyError",
     "evalue": "'email'",
     "output_type": "error",
     "traceback": [
      "\u001b[1;31m---------------------------------------------------------------------------\u001b[0m",
      "\u001b[1;31mKeyError\u001b[0m                                  Traceback (most recent call last)",
      "Cell \u001b[1;32mIn[3], line 31\u001b[0m\n\u001b[0;32m     29\u001b[0m \u001b[38;5;28mprint\u001b[39m(\u001b[38;5;124mf\u001b[39m\u001b[38;5;124m'\u001b[39m\u001b[38;5;130;01m\\n\u001b[39;00m\u001b[38;5;124mMengakses nama siswa pertama -> \u001b[39m\u001b[38;5;132;01m{\u001b[39;00msiswa[\u001b[38;5;241m1\u001b[39m][\u001b[38;5;124m\"\u001b[39m\u001b[38;5;124mnama\u001b[39m\u001b[38;5;124m\"\u001b[39m]\u001b[38;5;132;01m}\u001b[39;00m\u001b[38;5;124m'\u001b[39m)\n\u001b[0;32m     30\u001b[0m \u001b[38;5;28mprint\u001b[39m(\u001b[38;5;124mf\u001b[39m\u001b[38;5;124m'\u001b[39m\u001b[38;5;124mMengakses kursus siswa keempat -> \u001b[39m\u001b[38;5;132;01m{\u001b[39;00msiswa[\u001b[38;5;241m4\u001b[39m][\u001b[38;5;124m\"\u001b[39m\u001b[38;5;124mkursus\u001b[39m\u001b[38;5;124m\"\u001b[39m]\u001b[38;5;132;01m}\u001b[39;00m\u001b[38;5;124m'\u001b[39m)\n\u001b[1;32m---> 31\u001b[0m \u001b[38;5;28mprint\u001b[39m(\u001b[38;5;124mf\u001b[39m\u001b[38;5;124m'\u001b[39m\u001b[38;5;124mMengakses email siswa ketiga -> \u001b[39m\u001b[38;5;132;01m{\u001b[39;00msiswa[\u001b[38;5;241m3\u001b[39m][\u001b[38;5;124m\"\u001b[39m\u001b[38;5;124memail\u001b[39m\u001b[38;5;124m\"\u001b[39m]\u001b[38;5;132;01m}\u001b[39;00m\u001b[38;5;124m'\u001b[39m) \u001b[38;5;66;03m# tidak ada kunci dengan kata 'email'\u001b[39;00m\n",
      "\u001b[1;31mKeyError\u001b[0m: 'email'"
     ]
    }
   ],
   "source": [
    "siswa = {\n",
    "    1: {\n",
    "        'nama': 'Anita',\n",
    "        'umur': 13,\n",
    "        'kursus': ['Matematika', 'Fisika']\n",
    "    },\n",
    "    2: {\n",
    "        'nama': 'Budi',\n",
    "        'umur': 15,\n",
    "        'kursus': ['Biologi', 'Kimia']\n",
    "    },\n",
    "    3: {\n",
    "        'nama': 'Caca',\n",
    "        'Umur': 12,\n",
    "        'kursus': ['Ekonomi']\n",
    "    },\n",
    "    4: {\n",
    "        'nama': 'Dinda',\n",
    "        'umur': 13,\n",
    "        'kursus': ['Psikologi', 'Ekonomi', 'Bahasa Indonesia']\n",
    "    }\n",
    "}\n",
    "\n",
    "# mencetak elemen dictionary\n",
    "print('Daftar Siswa'.center(50, '='))\n",
    "print(siswa)\n",
    "\n",
    "# mengakses elemen dengan kunci\n",
    "print(f'\\nMengakses nama siswa pertama -> {siswa[1][\"nama\"]}')\n",
    "print(f'Mengakses kursus siswa keempat -> {siswa[4][\"kursus\"]}')\n",
    "print(f'Mengakses email siswa ketiga -> {siswa[3][\"email\"]}') # tidak ada kunci dengan kata 'email'"
   ]
  },
  {
   "cell_type": "markdown",
   "metadata": {},
   "source": [
    "# **Contoh Proyek: Sistem Manajemen Data Siswa**\n",
    "\n",
    "Berikut ini adalah project yang menerapkan berbagai bahan pembelajaran yang sudah dikenalkan sebelumnya dan yang ada di *notebook* ini."
   ]
  },
  {
   "cell_type": "code",
   "execution_count": 4,
   "metadata": {},
   "outputs": [
    {
     "name": "stdout",
     "output_type": "stream",
     "text": [
      "====================Data Awal=====================\n",
      "\n",
      "Nomor Induk: S001\n",
      "Nama: Andi\n",
      "Umur: 17\n",
      "Kursus: ['Matematika', 'Fisika']\n",
      "\n",
      "Nomor Induk: S002\n",
      "Nama: Budi\n",
      "Umur: 18\n",
      "Kursus: ['Kimia', 'Biologi']\n",
      "\n",
      "====================Data Akhir====================\n",
      "\n",
      "Nomor Induk: S001\n",
      "Nama: Andi\n",
      "Umur: 17\n",
      "Kursus: ['Matematika', 'Fisika']\n",
      "\n",
      "Nomor Induk: S002\n",
      "Nama: Bambang\n",
      "Umur: 18\n",
      "Kursus: ['Kimia', 'Biologi']\n"
     ]
    }
   ],
   "source": [
    "daftar_siswa = {}\n",
    "\n",
    "def tambah_siswa(nomor_induk: str, nama: str, umur: int, kursus: list):\n",
    "    \"\"\"\n",
    "    Menambahkan siswa baru.\n",
    "\n",
    "    Parameter:\n",
    "    nomor_induk (str): Nomor Induk Siswa\n",
    "    nama (str): Nama Siswa\n",
    "    umur (int): Umur Siswa\n",
    "    kursus (List[str]): Daftar Kursus yang Diambil Siswa\n",
    "    \n",
    "    Return:\n",
    "    None\n",
    "    \"\"\"\n",
    "\n",
    "    daftar_siswa[nomor_induk] = {\n",
    "        'nama': nama,\n",
    "        'umur': umur,\n",
    "        'kursus': kursus\n",
    "    }\n",
    "\n",
    "def perbarui_data(nomor_induk: str, nama: str = None, umur: int = None, kursus: list = None):\n",
    "    \"\"\"\n",
    "    Memperbarui data siswa.\n",
    "\n",
    "    Parameter:\n",
    "    nomor_induk (str): Nomor Induk Siswa\n",
    "    nama (str, opsional): Nama Baru Siswa. Jika None, nama tidak akan diperbarui.\n",
    "    umur (int, opsional): Umur Baru Siswa. Jika None, umur tidak akan diperbarui.\n",
    "    kursus (List[str], opsional): Daftar Kursus yang Diambil Siswa. Jika None, daftar tidak akan diperbarui.\n",
    "    \n",
    "    Return:\n",
    "    None\n",
    "    \"\"\"\n",
    "\n",
    "    if nomor_induk in daftar_siswa:\n",
    "        if nama:\n",
    "            daftar_siswa[nomor_induk]['nama'] = nama\n",
    "        if umur:\n",
    "            daftar_siswa[nomor_induk]['umur'] = umur\n",
    "        if kursus:\n",
    "            daftar_siswa[nomor_induk]['kursus'] = kursus\n",
    "    else:\n",
    "        print('Nomor induk siswa tidak ditemukan.')\n",
    "\n",
    "def tampilkan_daftar():\n",
    "    for nomor_induk, data_siswa in daftar_siswa.items():\n",
    "        print(f'\\nNomor Induk: {nomor_induk}')\n",
    "\n",
    "        for key, value in data_siswa.items():\n",
    "            print(f'{key.capitalize()}: {value}')\n",
    "\n",
    "# tambahkan data baru\n",
    "tambah_siswa('S001', 'Andi', 17, ['Matematika', 'Fisika'])\n",
    "tambah_siswa('S002', 'Budi', 18, ['Kimia', 'Biologi'])\n",
    "\n",
    "# tampilkan data siswa\n",
    "print('Data Awal'.center(50, '='))\n",
    "tampilkan_daftar()\n",
    "\n",
    "# ubah data siswa\n",
    "perbarui_data(\n",
    "    nomor_induk='S002',\n",
    "    nama='Bambang'\n",
    ")\n",
    "\n",
    "# tampilkan data siswa setelah diubah\n",
    "print('\\n' + 'Data Akhir'.center(50, '='))\n",
    "tampilkan_daftar()"
   ]
  }
 ],
 "metadata": {
  "kernelspec": {
   "display_name": "Python 3",
   "language": "python",
   "name": "python3"
  },
  "language_info": {
   "codemirror_mode": {
    "name": "ipython",
    "version": 3
   },
   "file_extension": ".py",
   "mimetype": "text/x-python",
   "name": "python",
   "nbconvert_exporter": "python",
   "pygments_lexer": "ipython3",
   "version": "3.9.13"
  }
 },
 "nbformat": 4,
 "nbformat_minor": 2
}
