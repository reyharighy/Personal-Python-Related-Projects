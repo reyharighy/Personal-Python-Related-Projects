{
 "cells": [
  {
   "cell_type": "markdown",
   "metadata": {},
   "source": [
    "# **1. Apa itu *Control Flow*?**\n",
    "\n",
    "*Control flow* adalah sebuah cara unutk menentukan urutan eksekusi di dalam program berdasarkan seperangkat kode instruksi. Hal ini sangatlah penting di dalam pemrograman karena menungkinan kita untuk:\n",
    "- Membuat keputusan dalam kode, seperti apakah suatu kondisi terpenuhi atau tidak untuk melakukan suatu tugas.\n",
    "- Melakukan tindakan yang sama berulang kali selama suatu kondisi tertentu masih terpenuhi.\n",
    "\n",
    "Dalam Python, *control flow* utama meliputi pernyataan kondisional, seperti `if`, `elif`, dan `else`, serta *loops*, yang terdiri dari `for` dan `while`.\n",
    "\n",
    "**Contoh Kode:**"
   ]
  },
  {
   "cell_type": "code",
   "execution_count": 1,
   "metadata": {},
   "outputs": [
    {
     "name": "stdout",
     "output_type": "stream",
     "text": [
      "Anda sudah dewasa.\n"
     ]
    }
   ],
   "source": [
    "# misalkan kita memiliki variabel umur\n",
    "umur = 20\n",
    "\n",
    "# gunakan pernyataan if untuk mengecek apakah variabel `umur` lebih besar dari suatu nilai yang dipersyaratkan\n",
    "if umur >= 18:\n",
    "    print(\"Anda sudah dewasa.\")"
   ]
  },
  {
   "cell_type": "markdown",
   "metadata": {},
   "source": [
    "**Mengapa *Control Flow* Penting?**\n",
    "\n",
    "*Control flow* memungkinkan kita untuk membuat program yang dinamis dan responsif sesuai prosedur yang ditentukan. Tanpa hal tersebut, program hanya akan mengeksekusi instruksi secara linier tanpa mempertimbangkan berbagai kondisi yang berbeda.\n",
    "\n",
    "**Contoh Kode:**"
   ]
  },
  {
   "cell_type": "code",
   "execution_count": 2,
   "metadata": {},
   "outputs": [
    {
     "name": "stdout",
     "output_type": "stream",
     "text": [
      "Selamat datang di program kami!\n"
     ]
    }
   ],
   "source": [
    "# tampilkan pesan selamat datang jika pengguna memasukkan kata sandi terdaftar\n",
    "kata_sandi_terdaftar = \"1234\"\n",
    "kata_sandi_input = input(\"Masukkan kata sandi: \")\n",
    "\n",
    "if kata_sandi_input == kata_sandi_terdaftar: # memeriksa apakah kata sandi yang dimasukan sesuai dengan yang terdaftar\n",
    "    print(\"Selamat datang di program kami!\")\n",
    "else:\n",
    "    print(\"Kata sandi salah.\")"
   ]
  },
  {
   "cell_type": "markdown",
   "metadata": {},
   "source": [
    "**Struktur Dasar *Control Flow***\n",
    "\n",
    "*Control flow* dalam Python terdiri dari:\n",
    "1. *Conditional Statements*: `if`, `elif`, dan `else`.\n",
    "2. *Loops*: `for` dan `while`.\n",
    "\n",
    "**Contoh Kode *Conditional Statemets*:**"
   ]
  },
  {
   "cell_type": "code",
   "execution_count": 3,
   "metadata": {},
   "outputs": [
    {
     "name": "stdout",
     "output_type": "stream",
     "text": [
      "Nilai Anda: C\n"
     ]
    }
   ],
   "source": [
    "# misalkan kita memiliki variabel nilai\n",
    "nilai = 75\n",
    "\n",
    "# gunakan if, elif, dan else\n",
    "if nilai >= 90:\n",
    "    print(\"Nilai Anda: A\")\n",
    "elif nilai >= 80:\n",
    "    print(\"Nilai Anda: B\")\n",
    "elif nilai >= 70:\n",
    "    print(\"Nilai Anda: C\")\n",
    "else:\n",
    "    print(\"Nilai Anda: D\")"
   ]
  },
  {
   "cell_type": "markdown",
   "metadata": {},
   "source": [
    "**Contoh Kode *Loops*:**"
   ]
  },
  {
   "cell_type": "code",
   "execution_count": 5,
   "metadata": {},
   "outputs": [
    {
     "name": "stdout",
     "output_type": "stream",
     "text": [
      "Perulangan ke-0\n",
      "Perulangan ke-1\n",
      "Perulangan ke-2\n",
      "Perulangan ke-3\n",
      "Perulangan ke-4\n",
      "Angka sekarang: 0\n",
      "Angka sekarang: 1\n",
      "Angka sekarang: 2\n",
      "Angka sekarang: 3\n",
      "Angka sekarang: 4\n"
     ]
    }
   ],
   "source": [
    "# menggunakan loop for\n",
    "for i in range(5):\n",
    "    print(f\"Perulangan ke-{i}\")\n",
    "\n",
    "# menggunakan loop while\n",
    "angka = 0\n",
    "\n",
    "while angka < 5:\n",
    "    print(f\"Angka sekarang: {angka}\")\n",
    "    angka += 1"
   ]
  },
  {
   "cell_type": "markdown",
   "metadata": {},
   "source": [
    "Di bagian selanjutnya, kita akan membahas secara detail tentang *conditional statements* dan bagaimana menggunakannya untuk membuat keputusan di dalam suatu program.\n",
    "\n",
    "# ***2. Conditional Statements***\n",
    "\n",
    "**Pernyataan `if`**\n",
    "\n",
    "Pernyataan `if` digunakan untuk menjalankan sebuah blok kode jika suatu kondisi yang dipersyaratkan terpenuhi. Jika tidak, makan blok kode tersebut akan dilewati.\n",
    "\n",
    "**Contoh Kode:**"
   ]
  },
  {
   "cell_type": "code",
   "execution_count": 6,
   "metadata": {},
   "outputs": [
    {
     "name": "stdout",
     "output_type": "stream",
     "text": [
      "Anda sudah dewasa.\n"
     ]
    }
   ],
   "source": [
    "# misalkan kita punya variabel umur\n",
    "umur = 20\n",
    "\n",
    "# tentukan syarat yang harus terpenuhi agar suatu instruksi dieksekusi\n",
    "if umur >= 18: # syarat yang harus dipenuhi\n",
    "    print(\"Anda sudah dewasa.\") # blok kode yang dieksekusi"
   ]
  },
  {
   "cell_type": "markdown",
   "metadata": {},
   "source": [
    "Dalam contoh di atas, pesan \"Anda sudah dewasa.\" hanya akan dicetak jika nilai variabel `umur` lebih besar atau sama dengan nilai yang dipersyaratkan, yaitu `18`.\n",
    "\n",
    "**Pernyataan `if-else`**\n",
    "\n",
    "Pernyataan `if-else` digunakan untuk menjalankan suatu blok kode jika kondisi pertama yang dipersyaratkan terpenuhi. Jika tidak, maka blok kode lain yang akan dieksekusi.\n",
    "\n",
    "**Contoh Kode:**"
   ]
  },
  {
   "cell_type": "code",
   "execution_count": 7,
   "metadata": {},
   "outputs": [
    {
     "name": "stdout",
     "output_type": "stream",
     "text": [
      "Anda belum dewasa.\n"
     ]
    }
   ],
   "source": [
    "# misalkan kita punya variabel umur\n",
    "umur = 16\n",
    "\n",
    "# tentukan syarat pertama yang harus dipenuhi agar blok kode pertama dieksekusi, jika tidak buat kode blok kedua untuk dieksekusi\n",
    "if umur >= 18: # syarat pertama\n",
    "    print(\"Anda sudah dewasa.\") # blok kode pertama\n",
    "else:\n",
    "    print(\"Anda belum dewasa.\") # blok kode kedua"
   ]
  },
  {
   "cell_type": "markdown",
   "metadata": {},
   "source": [
    "Dalam contoh di atas, jika variabel `umur` kurang dari nilai pertama yang dipersyaratkan, yaitu `18`, maka blok kode pertama akan dieksekusi. Jika tidak, maka blok kode kedua yang akan tereksekusi.\n",
    "\n",
    "**Pernyataan `elif`**\n",
    "\n",
    "Pernyataan `elif`, singkatan dari *else if*, digunakan untuk memeriksa beberapa kondisi yang dipersyaratkan. Jika kondisi pertama tidak terpenuhi, makan kondisi selanjutnya akan diperiksa, dan seterusnya hingga semua kondisi.\n",
    "\n",
    "**Contoh Kode:**"
   ]
  },
  {
   "cell_type": "code",
   "execution_count": 9,
   "metadata": {},
   "outputs": [
    {
     "name": "stdout",
     "output_type": "stream",
     "text": [
      "Nilai Anda: C\n"
     ]
    }
   ],
   "source": [
    "# misalkan kita memiliki variabel nilai\n",
    "nilai = 75\n",
    "\n",
    "# tentukan syarat berjenjang (lebih dari dua) dengan blok kode masing-masing\n",
    "if nilai >= 90: # syarat pertama\n",
    "    print(\"Nilai Anda: A\") # kode blok pertama\n",
    "elif nilai >= 80: # syarat kedua\n",
    "    print(\"Nilai Anda: B\") # kode blok kedua\n",
    "elif nilai >= 70: # syarat ketiga\n",
    "    print(\"Nilai Anda: C\") # kode blok ketiga\n",
    "else: # syarat terakhir\n",
    "    print(\"Nilai Anda: D\") # kode blok terakhir"
   ]
  },
  {
   "cell_type": "markdown",
   "metadata": {},
   "source": [
    "Dalam contoh di atas, setiap kondisi diperiksa secara berurutan dari atas ke bawah. Blok kode pertama dan kedua yang kondisinya tidak terpenuhi akan dilewati. Blok kode ketiga akan dieksekusi karena syarat ketida terpenuhi. Dengan demikian, kode blok terakhir akan dilewati pula karena salah satu syarat sudah terpenuhi sebelumnya.\n",
    "\n",
    "Dengan menggunakan *conditional statements*, kita dapat membuat program berjalan berdasarkan kondisi yang terpenuhi. Ini sangat berguna untuk membuat program yang dinamis dan sesuai prosedur serta mampu beradaptasi dengan input atau situasi yang berbeda."
   ]
  }
 ],
 "metadata": {
  "kernelspec": {
   "display_name": "Python 3",
   "language": "python",
   "name": "python3"
  },
  "language_info": {
   "codemirror_mode": {
    "name": "ipython",
    "version": 3
   },
   "file_extension": ".py",
   "mimetype": "text/x-python",
   "name": "python",
   "nbconvert_exporter": "python",
   "pygments_lexer": "ipython3",
   "version": "3.9.13"
  }
 },
 "nbformat": 4,
 "nbformat_minor": 2
}
