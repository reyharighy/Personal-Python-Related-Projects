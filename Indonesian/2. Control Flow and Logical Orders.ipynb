{
 "cells": [
  {
   "cell_type": "markdown",
   "metadata": {},
   "source": [
    "# **1. Apa itu *Control Flow*?**\n",
    "\n",
    "*Control flow* adalah sebuah cara untuk menentukan urutan eksekusi di dalam program berdasarkan seperangkat kode instruksi. Hal ini sangatlah penting di dalam pemrograman karena menungkinan kita untuk:\n",
    "- Membuat keputusan dalam kode, seperti apakah suatu kondisi terpenuhi atau tidak untuk melakukan suatu tugas.\n",
    "- Melakukan tindakan yang sama berulang kali selama suatu kondisi tertentu masih terpenuhi.\n",
    "\n",
    "Dalam Python, *control flow* utama meliputi *conditional statements* (pernyataan kondisional), seperti `if`, `elif`, dan `else`, serta *loops* (perulangan), yang terdiri dari `for` dan `while`.\n",
    "\n",
    "**Contoh Kode:**"
   ]
  },
  {
   "cell_type": "code",
   "execution_count": 1,
   "metadata": {},
   "outputs": [
    {
     "name": "stdout",
     "output_type": "stream",
     "text": [
      "Anda sudah dewasa.\n"
     ]
    }
   ],
   "source": [
    "# misalkan kita memiliki variabel umur\n",
    "umur = 20\n",
    "\n",
    "# gunakan pernyataan if untuk mengecek apakah nilai variabel umur lebih besar dari nilai yang dipersyaratkan\n",
    "if umur >= 18:\n",
    "    print(\"Anda sudah dewasa.\")"
   ]
  },
  {
   "cell_type": "markdown",
   "metadata": {},
   "source": [
    "**Mengapa *Control Flow* Penting?**\n",
    "\n",
    "*Control flow* memungkinkan kita untuk membuat program yang dinamis dan responsif sesuai dengan prosedur yang ditentukan. Tanpa hal tersebut, program hanya akan mengeksekusi instruksi secara linier tanpa mempertimbangkan berbagai kondisi yang berbeda.\n",
    "\n",
    "**Contoh Kode:**"
   ]
  },
  {
   "cell_type": "code",
   "execution_count": 2,
   "metadata": {},
   "outputs": [
    {
     "name": "stdout",
     "output_type": "stream",
     "text": [
      "Selamat datang di program kami!\n"
     ]
    }
   ],
   "source": [
    "# buatkan dua variabel untuk memeriksa kecocokan nilai antara kata sandi terdaftar dan yang dimasukkan\n",
    "kata_sandi_terdaftar = \"1234\"\n",
    "kata_sandi_input = input(\"Masukkan kata sandi: \")\n",
    "\n",
    "if kata_sandi_input == kata_sandi_terdaftar: # memeriksa apakah kata sandi yang dimasukkan sesuai dengan yang terdaftar\n",
    "    print(\"Selamat datang di program kami!\") # eksekusi baris kode ini jika kata sandi sesuai\n",
    "else:\n",
    "    print(\"Kata sandi salah.\") # eksekusi baris kode berikut ini jika kata sandi tidak sesuai"
   ]
  },
  {
   "cell_type": "markdown",
   "metadata": {},
   "source": [
    "**Struktur Dasar *Control Flow***\n",
    "\n",
    "*Control flow* dalam Python terdiri dari:\n",
    "1. *Conditional Statements*: `if`, `elif`, dan `else`.\n",
    "2. *Loops*: `for` dan `while`.\n",
    "\n",
    "**Contoh Kode *Conditional Statemets*:**"
   ]
  },
  {
   "cell_type": "code",
   "execution_count": 3,
   "metadata": {},
   "outputs": [
    {
     "name": "stdout",
     "output_type": "stream",
     "text": [
      "Nilai Anda: C\n"
     ]
    }
   ],
   "source": [
    "# misalkan kita memiliki variabel nilai ujian\n",
    "nilai_ujian = 75\n",
    "\n",
    "# gunakan if, elif, dan else untuk menentukan kategori bobot nilai\n",
    "if nilai_ujian >= 90: \n",
    "    print(\"Nilai Anda: A\")\n",
    "elif nilai_ujian >= 80:\n",
    "    print(\"Nilai Anda: B\")\n",
    "elif nilai_ujian >= 70:\n",
    "    print(\"Nilai Anda: C\")\n",
    "else:\n",
    "    print(\"Nilai Anda: D\")"
   ]
  },
  {
   "cell_type": "markdown",
   "metadata": {},
   "source": [
    "**Contoh Kode *Loops*:**"
   ]
  },
  {
   "cell_type": "code",
   "execution_count": 4,
   "metadata": {},
   "outputs": [
    {
     "name": "stdout",
     "output_type": "stream",
     "text": [
      "Keluaran menggunakan perulangan for:\n",
      "Perulangan ke-0\n",
      "Perulangan ke-1\n",
      "Perulangan ke-2\n",
      "Perulangan ke-3\n",
      "Perulangan ke-4\n",
      "\n",
      "Output menggunakan perulangan while:\n",
      "Angka sekarang: 0\n",
      "Angka sekarang: 1\n",
      "Angka sekarang: 2\n",
      "Angka sekarang: 3\n",
      "Angka sekarang: 4\n"
     ]
    }
   ],
   "source": [
    "# menggunakan perulangan for\n",
    "print(\"Keluaran menggunakan perulangan for:\")\n",
    "for i in range(5):\n",
    "    print(f\"Perulangan ke-{i}\")\n",
    "\n",
    "# menggunakan perulangan while\n",
    "angka = 0\n",
    "print(\"\\nOutput menggunakan perulangan while:\")\n",
    "\n",
    "while angka < 5:\n",
    "    print(f\"Angka sekarang: {angka}\")\n",
    "    angka += 1"
   ]
  },
  {
   "cell_type": "markdown",
   "metadata": {},
   "source": [
    "Di bagian selanjutnya, kita akan membahas secara detail tentang berbagai konsep yang ada di dalam *control flow*.\n",
    "\n",
    "# ***2. Indentasi***\n",
    "\n",
    "Indentasi adalah spasi yang digunakan di awal tiap baris kode untuk menentukan blok kode. Dalam Python, indentasi sangat penting karena digunakan untuk menentukan struktur program, bukan tanda kurung atau kata kunci seperti di beberapa bahasa pemrograman lainnya.\n",
    "\n",
    "**Contoh Kode:**"
   ]
  },
  {
   "cell_type": "code",
   "execution_count": 5,
   "metadata": {},
   "outputs": [
    {
     "name": "stdout",
     "output_type": "stream",
     "text": [
      "A\n",
      "A\n"
     ]
    }
   ],
   "source": [
    "# contoh indentasi pertama\n",
    "if 5 > 1: #             (Hierarki level 1)\n",
    "    print('A') #        (Blok kode level 1)\n",
    "else: #                 (Hierarki level 1)\n",
    "    print('B') #        (Blok kode level 1)\n",
    "\n",
    "# contoh indentasi kedua\n",
    "if 1 < 5: #             (Hierarki level 1)\n",
    "    if 2 < 5: #         (Blok kode level 1 - Hierarki level 2)\n",
    "        print('A') #    (Blok kode level 2)\n",
    "    else: # level 2     (Blok kode level 1 - Hierarki level 2)\n",
    "        print('B') #    (Blok kode level 2)\n",
    "else: # level 1         (Hierarki level 1)\n",
    "    print('C') #        (Blok kode level 1)"
   ]
  },
  {
   "cell_type": "markdown",
   "metadata": {},
   "source": [
    "Dalam contoh pertama, baris kode `print('A')` dan `print('B')` diberikan sejumlah spasi atau diindentasi agar Python tahu bahwa baris-baris kode tersebut adalah bagian dari blok `if` dan `else`.\n",
    "\n",
    "Dalam contoh kedua, baris kode `print('A')` merupakan bagian dari pernyataan kondisional `if 2 < 5:` dan `if 1 < 5:`. Hal ini mengindikasikan hierarki indentasi yang lebih mendalam di mana baris kode tersebut akan dieksekusi jika pernyataan `if 1 < 5:` terpenuhi terlebih dahulu. Kemudian, pernyataan `if 2 < 5:` harus dipenuhi selanjutnya. \n",
    "\n",
    "Begitu pula untuk baris kode `print('B')` yang merupakan bagian dari pernyataan kondisional `else:` (level 2) dan `if 1 < 5:`, baris kode tersebut akan dieksekusi secara bertahap, dimulai dari `if 1 < 5:` dan kemudian `else:` (level 2).\n",
    "\n",
    "Berbeda dengan baris kode `print('A')` dan `print('B')`, baris kode `print('C')` hanya memiliki 1 buah indentasi karena merupakan bagian dari `else:` (level 1). Pernyataan `else:` tersebut berada pada hierarki yang sama dengan `if 1 < 5:` sehingga blok kode yang tercakup di dalamnya hanya memiliki 1 buah tab.\n",
    "\n",
    "# ***3. Conditional Statements***\n",
    "\n",
    "**Pernyataan `if`**\n",
    "\n",
    "Pernyataan `if` digunakan untuk menjalankan sebuah blok kode, yang terdiri dari satu baris atau lebih, yang tercakup oleh *conditional statements* yang harus dipenuhi. Jika tidak terpenuhi, maka blok kode tersebut akan dilewati.\n",
    "\n",
    "**Contoh Kode:**"
   ]
  },
  {
   "cell_type": "code",
   "execution_count": 6,
   "metadata": {},
   "outputs": [
    {
     "name": "stdout",
     "output_type": "stream",
     "text": [
      "Anda sudah dewasa.\n"
     ]
    }
   ],
   "source": [
    "# misalkan kita punya variabel umur\n",
    "umur = 20\n",
    "\n",
    "if umur >= 18: # tentukan syarat yang harus terpenuhi agar blok kode yang tercakup di dalam conditional statements tersebut perlu dieksekusi\n",
    "    print(\"Anda sudah dewasa.\") # blok kode yang tercakup di dalam conditional statements"
   ]
  },
  {
   "cell_type": "markdown",
   "metadata": {},
   "source": [
    "Dalam contoh di atas, pesan \"Anda sudah dewasa.\" hanya akan dieksekusi jika nilai variabel `umur` lebih besar atau sama dengan nilai yang dipersyaratkan, yaitu `18`.\n",
    "\n",
    "**Pernyataan `if-else`**\n",
    "\n",
    "Pernyataan `if-else` digunakan untuk memberikan berbagai kemungkinan yang akan dilalui oleh suatu program berdasarkan berbagai kriteria yang dipersyaratkan. Jika suatu pernyataan kondisional terpenuhi, maka hanya blok kode yang tercakup di dalam kondisi tersebut yang akan dieksekusi.\n",
    "\n",
    "**Contoh Kode:**"
   ]
  },
  {
   "cell_type": "code",
   "execution_count": 7,
   "metadata": {},
   "outputs": [
    {
     "name": "stdout",
     "output_type": "stream",
     "text": [
      "Anda belum dewasa.\n"
     ]
    }
   ],
   "source": [
    "# misalkan kita punya variabel umur\n",
    "umur = 16\n",
    "\n",
    "# tentukan syarat yang harus dipenuhi agar blok kode yang tercakup perlu dieksekusi, jika tidak buat blok kode lainnya untuk dieksekusi\n",
    "if umur >= 18: # syarat yang harus dipenuhi agar blok kode yang tercakup dapat dieksekusi\n",
    "    print(\"Anda sudah dewasa.\") # blok kode yang dieksekusi jika syarat terpenuhi\n",
    "else:\n",
    "    print(\"Anda belum dewasa.\") # blok kode yang dieksekusi jika syarat tidak terpenuhi"
   ]
  },
  {
   "cell_type": "markdown",
   "metadata": {},
   "source": [
    "Dalam contoh di atas, jika variabel `umur` mempunyai nilai yang lebih besar dari nilai yang dipersyaratkan, yaitu `18`, maka blok kode yang tercakup akan dieksekusi. Jika tidak, maka blok kode lainnya yang akan dieksekusi.\n",
    "\n",
    "**Pernyataan `elif`**\n",
    "\n",
    "Pernyataan `elif`, singkatan dari *else if*, digunakan untuk memeriksa beberapa pernyataan kondisi yang dipersyaratkan satu per satu dari pertama hingga terakhir. Jika suatu pernyataan kondisi terpenuhi, maka hanya blok kode yang tercakup di dalam pernyataan tersebut yang akan dieksekusi. Blok kode yang lain akan dihiraukan.\n",
    "\n",
    "**Contoh Kode:**"
   ]
  },
  {
   "cell_type": "code",
   "execution_count": 8,
   "metadata": {},
   "outputs": [
    {
     "name": "stdout",
     "output_type": "stream",
     "text": [
      "Nilai Anda: C\n"
     ]
    }
   ],
   "source": [
    "# misalkan kita memiliki variabel nilai ujian\n",
    "nilai_ujian = 75\n",
    "\n",
    "# tentukan syarat berjenjang (lebih dari dua) dengan blok kode masing-masing\n",
    "if nilai_ujian >= 90: # pernyataan kondisional pertama dengan syarat yang harus dipenuhi\n",
    "    print(\"Nilai Anda: A\") # blok kode yang tercakup di dalam pernyataan kondisional pertama\n",
    "elif nilai_ujian >= 80: # memeriksa syarat kedua jika yang pertama tidak terpenuhi\n",
    "    print(\"Nilai Anda: B\") # blok kode yang tercakup di dalam pernyataan kondisional kedua\n",
    "elif nilai_ujian >= 70: # syarat ketiga\n",
    "    print(\"Nilai Anda: C\") # blok kode yang tercakup di dalam pernyataan kondisional ketiga\n",
    "else: # syarat terakhir\n",
    "    print(\"Nilai Anda: D\") # blok kode yang tercakup di dalam pernyataan kondisional terakhir"
   ]
  },
  {
   "cell_type": "markdown",
   "metadata": {},
   "source": [
    "Dalam contoh di atas, setiap pernyataan kondisi diperiksa secara berurutan dari awal hingga terakhir. Karena syarat pertama dan kedua tidak terpenuhi, maka masing-masing blok kode yang tercakup akan dilewati. Blok kode ketiga akan dieksekusi karena syarat pada pernyataan kondisi tersebut terpenuhi. Dengan demikian, pernyataan kondisi terakhir tidak akan diperiksa juga sehingga blok kode yang tercakup juga akan dilewati.\n",
    "\n",
    "***Nested Conditional Statements***\n",
    "\n",
    "Bagian ini menjelaskan tentang penerapan pernyataan `if` yang tercakup di dalam pernyataan `if` lainnya. Hal ini berguna ketika kita perlu memeriksa beberapa kondisi yang bergantung pada kondisi sebelumnya.\n",
    "\n",
    "**Contoh Kode:**"
   ]
  },
  {
   "cell_type": "code",
   "execution_count": 9,
   "metadata": {},
   "outputs": [
    {
     "name": "stdout",
     "output_type": "stream",
     "text": [
      "Anda boleh mendaftar.\n"
     ]
    }
   ],
   "source": [
    "# buatkan 2 variabel yang menyatakan umur dan status kepemiliki KTP\n",
    "umur = 20\n",
    "punya_ktp = True # tipe data boolean dipakai untuk menjelaskan kondisi apakah punya KTP atau tidak\n",
    "\n",
    "if umur >= 18: # memeriksa jika variabel umur lebih dari atau sama dengan 18 (kondisi pertama)                          (Hierarki level 1)\n",
    "    if punya_ktp: # karena kondisi sebelumnya terpenuhi, maka akan diperiksa kembali apakah memiliki KTP atau tidak     (Blok kode level 1 - Hierarki level 2)\n",
    "        print(\"Anda boleh mendaftar.\") #                                                                                (Blok kode level 2)\n",
    "    else: # jika tidak punya KTP                                                                                        (Blok kode level 1 - Hierarki level 2)\n",
    "        print(\"Anda perlu membuat KTP dulu.\") #                                                                         (Blok kode level 2)\n",
    "else: # jika syarat pertama tidak terpenuhi, maka blok kode yang ada di dalam kondisi ini yang akan dieksekusi          (Hierarki level 1)\n",
    "    print(\"Anda belum cukup umur untuk mendaftar.\") # blok kode yang dieksekusi jika syarat pertama tidak terpenuhi     (Blok kode level 1)"
   ]
  },
  {
   "cell_type": "markdown",
   "metadata": {},
   "source": [
    "Dalam contoh di atas, pernyataan `if` kedua (`if punya_ktp:`) hanya akan dieksekusi jika kondisi pertama terpenuhi (`if umur >= 18:`). Jika variabel `umur` kurang dari 18 tahun, maka pesan yang muncul adalah blok kode yang tercakup di dalam pernyataan `else`.\n",
    "\n",
    "Dengan menggunakan *conditional statements*, kita dapat membuat program berjalan berdasarkan kondisi yang terpenuhi. Ini sangat berguna untuk membuat program yang dinamis dan sesuai prosedur serta mampu beradaptasi dengan input atau situasi yang berbeda.\n",
    "\n",
    "# **3. Operator Logika**\n",
    "\n",
    "Operator logika digunakan untuk memeriksa seperangkat kondisi dalam satu pernyataan kondisional. Terdapat 3 operator logika utama di dalam Python, yaitu `and`, `or`, dan `not`.\n",
    "\n",
    "1. `and` akan mengembalikan nilai `True` jika kedua kondisi benar.\n",
    "2. `or` akan mengembalikan nilai `True` jika salah satu kondisi benar.\n",
    "3. `not` akan mengembalikan nilai kebalikan, seperti mengembalikan nilai `True` jika kondisi salah dan `False` jika kondisi benar.\n",
    "\n",
    "**Penerapan Dalam *Conditional Statements***\n",
    "\n",
    "Operator logika sering digunakan untuk memeriksa beberapa kondisi sekaligus di dalam pernyataan `if`, `elif`, dan `else`.\n",
    "\n",
    "**Contoh Kode Operator `and`:**"
   ]
  },
  {
   "cell_type": "code",
   "execution_count": 10,
   "metadata": {},
   "outputs": [
    {
     "name": "stdout",
     "output_type": "stream",
     "text": [
      "Anda boleh mengemudi.\n"
     ]
    }
   ],
   "source": [
    "# buatkan variabel umur dan status kepemilikan SIM\n",
    "umur = 25\n",
    "punya_sim = True\n",
    "\n",
    "if umur >= 18 and punya_sim: # memeriksa kedua kondisi sekaligus. Jika keduanya bernilai benar, maka blok kode yang tercakup di dalam kondisi ini yang akan dieksekusi\n",
    "    print(\"Anda boleh mengemudi.\") # blok kode yang dieksekusi jika kedua kondisi terpenuhi\n",
    "else: # jika salah satu atau kedua kondisi tidak terpenuhi, maka blok kode berikut yang akan dieksekusi\n",
    "    print(\"Anda tidak boleh mengemudi.\") # blok kode yang dieksekusi jika salah satu atau kedua kondisi tidak terpenuhi"
   ]
  },
  {
   "cell_type": "markdown",
   "metadata": {},
   "source": [
    "Dalam contoh di atas, pesan `Anda boleh mengemudi.` hanya akan dieksekusi jika variabel `umur` lebih besar atau sama dengan `18` dan `punya_sim` bernilai `True`, yang berarti memiliki SIM. Jika salah satu atau keduanya tidak terpenuhi, maka pesan yang akan dieksekusi adalah `Anda tidak boleh mengemudi.`.\n",
    "\n",
    "**Contoh Kode Operator `or`:**"
   ]
  },
  {
   "cell_type": "code",
   "execution_count": 11,
   "metadata": {},
   "outputs": [
    {
     "name": "stdout",
     "output_type": "stream",
     "text": [
      "Hari libur! Selamat berakhir pekan!\n"
     ]
    }
   ],
   "source": [
    "# buatkan variabel yang berisi nama hari\n",
    "hari_ini = \"Sabtu\"\n",
    "\n",
    "if hari_ini == \"Sabtu\" or hari_ini == \"Minggu\": # memerika jika salah satu atau kedua kondisi terpenuhi\n",
    "    print(\"Hari libur! Selamat berakhir pekan!\") # blok kode yang dieksekusi jika salah satu atau kedua kondisi terpenuhi\n",
    "else: # jika tidak ada yang terpenuhi, maka blok kode yang tercakup di dalam pernyataan kondisi ini yang akan dieksekusi\n",
    "    print(\"Hari kerja! Semangat terus ya!\") # blok kode yang dieksekusi jika tidak ada kondisi yang terpenuhi"
   ]
  },
  {
   "cell_type": "markdown",
   "metadata": {},
   "source": [
    "Dalam contoh di atas, pesan `Hari libur! Selamat berakhir pekan!` akan dicetak jika variabel `hari_ini` bernilai `Sabtu` atau `Minggu`. Jika nilainya selain itu, maka blok kode lainnya yang akan dieksekusi.\n",
    "\n",
    "**Contoh Kode Operator `not`:**"
   ]
  },
  {
   "cell_type": "code",
   "execution_count": 12,
   "metadata": {},
   "outputs": [
    {
     "name": "stdout",
     "output_type": "stream",
     "text": [
      "Bawa payung!\n"
     ]
    }
   ],
   "source": [
    "# buatkan variabel yang menjelaskan apakah cuaca sedang hujan atau tidak\n",
    "sedang_hujan = True\n",
    "\n",
    "if not sedang_hujan: # memeriksa apakah cuaca sedang tidak hujan (sedang_hujan = False -> not False bernilai True)\n",
    "    print(\"Anda tidak perlu membawa payung.\") # blok kode yang dieksekusi jika cuaca sedang tidak hujan\n",
    "else: # jika cuaca sedang hujan, maka blok kode yang tercakup di dalam pernyataan kondisi ini yang akan dieksekusi\n",
    "    print(\"Bawa payung!\") # blok kode yang dieksekusi jika cuaca sedang hujan"
   ]
  },
  {
   "cell_type": "markdown",
   "metadata": {},
   "source": [
    "Dalam contoh di atas, pesan `Anda tidak perlu membawa payung.` akan dicetak jika kondisi cuaca sedang tidak hujan (`sedang_hujan = False`). Sedangkan ketika sedang hujan (`sedang_hujan = True`), maka pesan akan memberi tahu untuk membawa payung.\n",
    "\n",
    "**Prioritas Evaluasi**\n",
    "\n",
    "Ketika lebih dari satu operator logika dievaluasi secara bersamaan di dalam satu pernyataan kondisi, maka proses evaluasi akan dilakukan mengikuti urutan prioritas dari `not`, lalu `and`, dan terakhir `or`.\n",
    "\n",
    "**Contoh Kode:**"
   ]
  },
  {
   "cell_type": "code",
   "execution_count": 13,
   "metadata": {},
   "outputs": [
    {
     "data": {
      "text/plain": [
       "False"
      ]
     },
     "execution_count": 13,
     "metadata": {},
     "output_type": "execute_result"
    }
   ],
   "source": [
    "# buatkan variabel dengan berbagai nilai boolean\n",
    "a = False\n",
    "b = True\n",
    "c = True\n",
    "\n",
    "not a or b and c        # Output: True\n",
    "not (a or b) and c      # Output: False\n",
    "(not a) or (b and c)    # Output: True\n",
    "not (a or b) and c      # Output: False"
   ]
  },
  {
   "cell_type": "markdown",
   "metadata": {},
   "source": [
    "Dalam contoh di atas, kita melihat bagaimana penggunaan tanda kurung akan mengubah urutan evaluasi dan hasil akhir.\n",
    "\n",
    "# **4. Struktur Perulangan**\n",
    "\n",
    "**Perulangan `for`**\n",
    "\n",
    "Perulangan ini digunakan untuk mengulangi blok kode yang tercakup sejumlah *n* kali tertentu atau melalui elemen-elemen dari suatu data bertipe koleksi, seperti *list*, *set*, dan *dictionary*, atau bahkan melalui string.\n",
    "\n",
    "**Contoh Kode:**"
   ]
  },
  {
   "cell_type": "code",
   "execution_count": 14,
   "metadata": {},
   "outputs": [
    {
     "name": "stdout",
     "output_type": "stream",
     "text": [
      "Perulangan sebanyak 5-kali:\n",
      "Perulangan ke-1\n",
      "Perulangan ke-2\n",
      "Perulangan ke-3\n",
      "Perulangan ke-4\n",
      "Perulangan ke-5\n",
      "\n",
      "Perulangan menggunakan suatu koleksi data:\n",
      "apel\n",
      "pisang\n",
      "ceri\n",
      "jeruk\n",
      "\n",
      "Perulangan menggunakan tiap huruf dari suatu string:\n",
      "l\n",
      "o\n",
      "o\n",
      "p\n"
     ]
    }
   ],
   "source": [
    "# perulangan sebanyak n kali menggunakan fungsi range()\n",
    "print(\"Perulangan sebanyak 5-kali:\")\n",
    "\n",
    "for i in range(5): # menentukan argumen untuk fungsi range dengan nilai 5\n",
    "    print(f\"Perulangan ke-{i+1}\") # blok kode tercakup yang akan dieksekusi setiap perulangan\n",
    "\n",
    "# perulangan menggunakan elemen dari suatu data bertipe koleksi\n",
    "daftar_buah = ['apel', 'pisang', 'ceri', 'jeruk']\n",
    "print('\\nPerulangan menggunakan suatu koleksi data:')\n",
    "\n",
    "for buah in daftar_buah: # mengambil tiap elemen di dalam variabel `daftar_buah` yang bertipe koleksi\n",
    "    print(buah) # blok kode tercakup yang akan dieksekusi hingga tiap elemen di dalam daftar buah diakses\n",
    "\n",
    "# perulangan menggunakan elemen dari suatu data bertipe string\n",
    "print('\\nPerulangan menggunakan tiap huruf dari suatu string:')\n",
    "\n",
    "for huruf in \"loop\": # mengambil tiap huruf di dalam string bernilai `loop` \n",
    "    print(huruf)"
   ]
  },
  {
   "cell_type": "markdown",
   "metadata": {},
   "source": [
    "Dalam contoh di atas, perulangan sebanyak 5 kali menggunakan fungsi `range()` dengan nilai argumen `5` yang akan memberikan elemen urutan dari 0 hingga ke 4 (5 tidak termasuk), sehingga diperlukan penambahan angka 1 agar penghitungan dimulai dari angka 1 di dalam konstruksi `f-string`.\n",
    "\n",
    "Selain itu, proses serupa dapat dilakukan dengan memanfaatkan setiap elemen di dalam data bertipe *list* dari variabel `daftar_buah` atau string bernilai `loop`. Setiap elemen akan dicetak satu per satu.\n",
    "\n",
    "**Perulangan `while`**\n",
    "\n",
    "Perulangan ini digunakan untuk mengulangi suatu blok kode yang tercakup selama kondisi yang dipersyaratkan masih terpenuhi. Jika kondisi tidak terpenuhi, maka perulangan akan berhenti.\n",
    "\n",
    "**Contoh Kode:**"
   ]
  },
  {
   "cell_type": "code",
   "execution_count": 15,
   "metadata": {},
   "outputs": [
    {
     "name": "stdout",
     "output_type": "stream",
     "text": [
      "Angka sekarang: 0\n",
      "Angka sekarang: 1\n",
      "Angka sekarang: 2\n",
      "Angka sekarang: 3\n",
      "Angka sekarang: 4\n"
     ]
    }
   ],
   "source": [
    "# buatkan variabel untuk diperiksa menggunakan perulangan while\n",
    "angka = 0\n",
    "\n",
    "while angka < 5: # selama kondisi terpenuhi, maka perulangan akan terus dilakukan       (Hierarki level 1)\n",
    "    print(f\"Angka sekarang: {angka}\") #                                                 (Blok kode level 1)\n",
    "    angka += 1 # setiap perulangan, variabel angka ditambah dengan satu                 (Akhir blok kode level 1)"
   ]
  },
  {
   "cell_type": "markdown",
   "metadata": {},
   "source": [
    "Dalam contoh di atas, variabel `angka` akan dicetak dari 0 hingga 4 karena masih memenuhi kondisi yang dipersyaratkan, yaitu `while angka < 5:`. Perulangan berhenti ketika kondisi yang diminta sudah tidak valid (keluar dari hierarki level 1).\n",
    "\n",
    "***Break* dan *Continue***\n",
    "\n",
    "Kita dapat menggunakan instruksi `break` dan `continue` untuk mengontrol aliran perulangan. `break` digunakan untuk menghentikan perulangan dan keluar dari blok kode yang tercakup, sementara `continue` digunakan untuk melompati iterasi saat ini tetapi akan tetap melanjutkan iterasi berikutnya dari suatu blok kode.\n",
    "\n",
    "**Contoh Kode `break`:**"
   ]
  },
  {
   "cell_type": "code",
   "execution_count": 16,
   "metadata": {},
   "outputs": [
    {
     "name": "stdout",
     "output_type": "stream",
     "text": [
      "Perulangan ke-1\n",
      "Elemen i bernilai 1, maka perulangan blok kode dilanjutkan.\n",
      "Perulangan ke-2\n",
      "Elemen i bernilai 2, maka perulangan blok kode dilanjutkan.\n",
      "Perulangan ke-3\n",
      "Elemen i bernilai 3, maka perulangan blok kode dilanjutkan.\n",
      "Perulangan ke-4\n",
      "Elemen i bernilai 4, maka perulangan blok kode dilanjutkan.\n",
      "Perulangan ke-5\n",
      "Elemen i bernilai: 5, dengan demikian perulangan berhenti dan keluar dari blok kode.\n"
     ]
    }
   ],
   "source": [
    "# buatkan perulangan sebanyak 10 kali\n",
    "for i in range(1, 11): # melakukan perulangan dengan menggunakan elemen dari fungsi range()                                     (Hierarki level 1)\n",
    "    print(f\"Perulangan ke-{i}\") # mencatat nilai variabel i untuk tiap perulangan                                               (Blok kode level 1)\n",
    "    #                                                                                                                           (...)\n",
    "    if i == 5: # memeriksa jika nilai variabel i sama dengan 5. Jika sama, maka akan mengeksekusi blok kode yang tercakup       (Blok kode level 1 - Hierarki level 2)\n",
    "        print(f\"Elemen i bernilai: {i}, dengan demikian perulangan berhenti dan keluar dari blok kode.\") #                      (Blok kode level 2)\n",
    "        break # perintah untuk menghentikan perulangan melewati seluruh baris kode di dalam blok                                (Akhir blok kode level 2)\n",
    "    #                                                                                                                           (...)\n",
    "    # jika nilai variabel i sama dengan 5, maka baris kode berikut akan tidak dieksekusi karena sudah keluar/break              (...)\n",
    "    print(f\"Elemen i bernilai {i}, maka perulangan blok kode dilanjutkan.\") #                                                   (Akhir blok kode level 1)"
   ]
  },
  {
   "cell_type": "markdown",
   "metadata": {},
   "source": [
    "Dalam contoh di atas, saat elemen `i` bernilai 5, maka blok kode yang tercakup di dalam `if i == 5:` akan dieksekusi (blok kode level 2), termasuk instruksi `break`. Dengan demikian, baris-baris kode setelah `break` yang tercakup di dalam `for i in range(1, 11):` (blok kode level 1 setelah akhir blok kode level 2) tidak akan dieksekusi dan perulangan akan berenti (keluar dari hierarki level 1).\n",
    "\n",
    "Perlu diingat bahwa penggunaan `for` tidak mengharuskan penambahan variabel `i` secara manual seperti pada contoh sebelumnya, karena pada dasarnya fungsi `range()` akan memberikan sejumlah elemen nilai sebanyak argumen input yang diberikan, dalam hal ini argumen input adalah `range(1, 11)`, sehingga elemen yang diterima dimulai dari 1 hingga 10 (11 tidak termasuk).\n",
    "\n",
    "**Contoh Kode `continue`:**"
   ]
  },
  {
   "cell_type": "code",
   "execution_count": 17,
   "metadata": {},
   "outputs": [
    {
     "name": "stdout",
     "output_type": "stream",
     "text": [
      "Perulangan ke-1\n",
      "Elemen i bernilai 1, yang merupakan merupakan angka ganjil.\n",
      "Perulangan ke-2\n",
      "Elemen i bernilai: 2, yang merupakan angka genap. Dengan demikian, perulangan dimulai lagi dari awal.\n",
      "Perulangan ke-3\n",
      "Elemen i bernilai 3, yang merupakan merupakan angka ganjil.\n",
      "Perulangan ke-4\n",
      "Elemen i bernilai: 4, yang merupakan angka genap. Dengan demikian, perulangan dimulai lagi dari awal.\n",
      "Perulangan ke-5\n",
      "Elemen i bernilai 5, yang merupakan merupakan angka ganjil.\n",
      "Perulangan ke-6\n",
      "Elemen i bernilai: 6, yang merupakan angka genap. Dengan demikian, perulangan dimulai lagi dari awal.\n",
      "Perulangan ke-7\n",
      "Elemen i bernilai 7, yang merupakan merupakan angka ganjil.\n",
      "Perulangan ke-8\n",
      "Elemen i bernilai: 8, yang merupakan angka genap. Dengan demikian, perulangan dimulai lagi dari awal.\n",
      "Perulangan ke-9\n",
      "Elemen i bernilai 9, yang merupakan merupakan angka ganjil.\n",
      "Perulangan ke-10\n",
      "Elemen i bernilai: 10, yang merupakan angka genap. Dengan demikian, perulangan dimulai lagi dari awal.\n"
     ]
    }
   ],
   "source": [
    "# buatkan perulangan sebanyak 10 kali\n",
    "for i in range(1, 11): # memberikan elemen nilai dari 1 hingga 10                                                                           (Hierarki level 1)\n",
    "    print(f\"Perulangan ke-{i}\") # mencatat nilai variabel i untuk tiap perulangan                                                           (Blok kode level 1)\n",
    "    #                                                                                                                                       (...)\n",
    "    if i % 2 == 0: # memeriksa jika nilai variabel i adalah bilangan genap. Jika memenuhi, maka akan mengeksekusi baris kode di dalam if    (Blok kode level 1 - Hierarki level 2)\n",
    "        print(f\"Elemen i bernilai: {i}, yang merupakan angka genap. Dengan demikian, perulangan dimulai lagi dari awal.\") #                 (Blok kode level 2)\n",
    "        continue # instruksi untuk melewati baris kode selanjutnya, termasuk yang ada di dalam for                                          (Akhir blok kode level 2)\n",
    "    #                                                                                                                                       (...)\n",
    "    # jika nilai variabel i adalah bilangan genap, maka baris kode berikut akan terlewati                                                   (...)\n",
    "    print(f\"Elemen i bernilai {i}, yang merupakan merupakan angka ganjil.\") #                                                               (Akhir blok kode level 1)"
   ]
  },
  {
   "cell_type": "markdown",
   "metadata": {},
   "source": [
    "Pada contoh di atas, saat elemen `i` merupakan bilangan genap, maka baris kode yang tercakup di dalam `if i % 2 == 0:` akan dieksekusi (blok kode level 2). Setelah instruksi `continue` dieksekusi, program akan kembali ke baris awal dari suatu perulangan. Dengan kata lain, baris-baris kode setelahnya yang tercakup di dalam `for i in range(1, 11):` (blok kode level 1 setelah akhir blok kode level 2) akan dilewati. Akan tetapi, perulangan akan terus berlanjut hingga seluruh elemen `i` diakses dari `range(1,11)`.\n",
    "\n",
    "## **Contoh Proyek: Kalkulator Sederhana**\n",
    "\n",
    "Berikut ini adalah project yang menerapkan berbagai bahan pembelajaran yang ada di *notebook* ini."
   ]
  },
  {
   "cell_type": "code",
   "execution_count": 18,
   "metadata": {},
   "outputs": [
    {
     "name": "stdout",
     "output_type": "stream",
     "text": [
      "\n",
      "    Pilih Operasi:\n",
      "    1. Penjumlahan\n",
      "    2. Pengurangan\n",
      "    3. Perkalian\n",
      "    4. Pembagian\n",
      "    5. Keluar\n",
      "    \n",
      "Pengguna memasukkan angka menu 1.\n",
      "Hasil Penambahan 7.0 + 8.0 = 15.0\n",
      "\n",
      "    Pilih Operasi:\n",
      "    1. Penjumlahan\n",
      "    2. Pengurangan\n",
      "    3. Perkalian\n",
      "    4. Pembagian\n",
      "    5. Keluar\n",
      "    \n",
      "Pengguna memasukkan angka menu 2.\n",
      "Hasil Pengurangan 30.0 - 13.0 = 17.0\n",
      "\n",
      "    Pilih Operasi:\n",
      "    1. Penjumlahan\n",
      "    2. Pengurangan\n",
      "    3. Perkalian\n",
      "    4. Pembagian\n",
      "    5. Keluar\n",
      "    \n",
      "Pengguna memasukkan angka menu 3.\n",
      "Hasil Perkalian 3.0 x 4.0 = 12.0\n",
      "\n",
      "    Pilih Operasi:\n",
      "    1. Penjumlahan\n",
      "    2. Pengurangan\n",
      "    3. Perkalian\n",
      "    4. Pembagian\n",
      "    5. Keluar\n",
      "    \n",
      "Pengguna memasukkan angka menu 4.\n",
      "Hasil Pembagian 10.0 / 3.0 = 3.3333333333333335\n",
      "\n",
      "    Pilih Operasi:\n",
      "    1. Penjumlahan\n",
      "    2. Pengurangan\n",
      "    3. Perkalian\n",
      "    4. Pembagian\n",
      "    5. Keluar\n",
      "    \n",
      "Pengguna memasukkan angka menu 5.\n",
      "Terima kasih telah menggunakan kalkulator!\n"
     ]
    }
   ],
   "source": [
    "# buat program untuk berhenti ketika hanya diminta saja\n",
    "while True: # menjalankan program terus menerus hingga instruksi break tereksekusi                                                                          (Hierarki level 1)\n",
    "    tampilan_menu = \"\"\"\n",
    "    Pilih Operasi:\n",
    "    1. Penjumlahan\n",
    "    2. Pengurangan\n",
    "    3. Perkalian\n",
    "    4. Pembagian\n",
    "    5. Keluar\n",
    "    \"\"\"\n",
    "\n",
    "    print(tampilan_menu) # menampilkan pilihan menu untuk tiap perulangan\n",
    "\n",
    "    pilihan = input(\"Masukkan pilihan (1/2/3/4/5): \") # meminta pengguna untuk memasukkan angka menu yang dipilih\n",
    "    print(f'Pengguna memasukkan angka menu {pilihan}.')\n",
    "\n",
    "    if pilihan == '5': # memeriksa jika input dari pengguna bernilai `5` atau tidak                                                                         (Hierarki level 2)\n",
    "        print(\"Terima kasih telah menggunakan kalkulator!\") # menginformasikan bahwa program akan dihentikan\n",
    "        break # instruksi untuk keluar dari perulangan yang dinyatakan oleh `while = True` dan melewati seluruh baris kode yang tercakup setelah ini\n",
    "\n",
    "    if pilihan in ['1', '2', '3', '4']: # memeriksa jika input dari pengguna bernilai antara `1` hingga `4`                                                 (Hierarki level 2)\n",
    "        # memasukkan 2 angka yang akan dilakukan operasi aritmetika\n",
    "        num1 = float(input(\"Masukkan angka pertama: \"))\n",
    "        num2 = float(input(\"Masukkan angka kedua: \"))\n",
    "\n",
    "        if pilihan == '1': #                                                                                                                                (Hierarki level 3)\n",
    "            print(f\"Hasil Penambahan {num1} + {num2} = {num1 + num2}\")\n",
    "        elif pilihan == '2': #                                                                                                                              (Hierarki level 3)\n",
    "            print(f\"Hasil Pengurangan {num1} - {num2} = {num1 - num2}\")\n",
    "        elif pilihan == '3': #                                                                                                                              (Hierarki level 3)\n",
    "            print(f\"Hasil Perkalian {num1} x {num2} = {num1 * num2}\")\n",
    "        elif pilihan == '4': #                                                                                                                              (Hierarki level 3)\n",
    "            if num2 != 0: #                                                                                                                                 (Hierarki level 4)\n",
    "                print(f\"Hasil Pembagian {num1} / {num2} = {num1 / num2}\")\n",
    "            else: #                                                                                                                                         (Hierarki level 4)\n",
    "                print(\"Kesalahan: Pembagian dengan nol tidak diperbolehkan.\")\n",
    "    else: #                                                                                                                                                 (Hierarki level 2)\n",
    "        print(\"Pilihan tidak valid, silakan coba lagi.\")"
   ]
  }
 ],
 "metadata": {
  "kernelspec": {
   "display_name": "Python 3",
   "language": "python",
   "name": "python3"
  },
  "language_info": {
   "codemirror_mode": {
    "name": "ipython",
    "version": 3
   },
   "file_extension": ".py",
   "mimetype": "text/x-python",
   "name": "python",
   "nbconvert_exporter": "python",
   "pygments_lexer": "ipython3",
   "version": "3.9.13"
  }
 },
 "nbformat": 4,
 "nbformat_minor": 2
}
