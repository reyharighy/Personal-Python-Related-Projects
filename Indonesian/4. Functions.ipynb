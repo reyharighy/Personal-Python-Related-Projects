{
 "cells": [
  {
   "cell_type": "markdown",
   "metadata": {},
   "source": [
    "# **1. Function**\n",
    "\n",
    "*Function* atau fungsi adalah bagian dari sebuah kode yang dapat digunakan kembali yang menjalankan suatu tugas tertentu. Hal ini memungkinkan desain kode yang modular, sehingga lebih mudah dimengerti dan dikelola. Dalam Python, fungsi didefinisikan dengan menggunakan kata luncu `def`.\n",
    "\n",
    "# **2. Built-in Functions**\n",
    "\n",
    "Python menyediakan berbagai *built-in functions* atau fungsi bawaan yang dapat digunakan secara langsung tanpa harus mendefinisikannya. Beberapa fungsi bawaan tersebut meliputi: \n",
    "\n",
    "- `print()`: Mencetak pesan tertentu ke penampil.\n",
    "- `len()`: Menghasilkan satuan panjang dari suatu objek.\n",
    "- `type()`: Menghasilkan tipe data dari suatu objek.\n",
    "\n",
    "**Contoh Kode:**"
   ]
  },
  {
   "cell_type": "code",
   "execution_count": 1,
   "metadata": {},
   "outputs": [
    {
     "name": "stdout",
     "output_type": "stream",
     "text": [
      "Hello, World!\n",
      "Karakter Python memiliki 6 karakter.\n",
      "Angka 42 bertipe data -> <class 'int'>\n"
     ]
    }
   ],
   "source": [
    "print('Hello, World!')\n",
    "print(f'Karakter Python memiliki {len(\"Python\")} karakter.')\n",
    "print(f'Angka 42 bertipe data -> {type(42)}')"
   ]
  },
  {
   "cell_type": "markdown",
   "metadata": {},
   "source": [
    "# **3. Kustomisasi Fungsi**\n",
    "\n",
    "Kita dapat mendefinisikan fungsi buatan sendiri dengan menggunakan kata kunci `def`. Sebuah fungsi dapat memiliki berbagai parameter dan menghasilkan nilai balikan dengan menggunakan pernyataan `return`.\n",
    "\n",
    "**Syntax:**\n",
    "```\n",
    "def nama_fungsi(parameter):\n",
    "    # Isi Fungsi\n",
    "    ...\n",
    "    ...\n",
    "    return value\n",
    "```\n",
    "**Contoh Kode:**"
   ]
  },
  {
   "cell_type": "code",
   "execution_count": 2,
   "metadata": {},
   "outputs": [
    {
     "name": "stdout",
     "output_type": "stream",
     "text": [
      "Hello, Budi\n"
     ]
    }
   ],
   "source": [
    "def menyapa(name):\n",
    "    \"\"\"Fungsi untuk menyapa seseorang\"\"\"\n",
    "    return f'Hello, {name}'\n",
    "\n",
    "print(menyapa('Budi'))"
   ]
  },
  {
   "cell_type": "markdown",
   "metadata": {},
   "source": [
    "# **4. Argumen Fungsi**\n",
    "\n",
    "Fungsi dapat menerima argumen baik dengan kata kunci maupun secara posisi. Kita juga dapat menentukan nilai awal untuk argumen yang diberikan.\n",
    "\n",
    "**Contoh Kode:**"
   ]
  },
  {
   "cell_type": "code",
   "execution_count": 3,
   "metadata": {},
   "outputs": [
    {
     "name": "stdout",
     "output_type": "stream",
     "text": [
      "=======Tampilan untuk argumen secara posisi=======\n",
      "Saya mempunyai seekor kucing.\n",
      "Nama kucing saya adalah Donnie.\n",
      "\n",
      "========Tampilan untuk argumen kata kunci=========\n",
      "Saya mempunyai seekor anjing.\n",
      "Nama anjing saya adalah Harry.\n"
     ]
    }
   ],
   "source": [
    "def deskripsi_hewan_peliharaan(nama, jenis_binatang = 'kucing'):\n",
    "    \"\"\"Menampilkan informasi tentang hewan peliharaan\"\"\"\n",
    "    print(f'Saya mempunyai seekor {jenis_binatang}.')\n",
    "    print(f'Nama {jenis_binatang} saya adalah {nama}.')\n",
    "\n",
    "# argumen secara posisi\n",
    "print('Tampilan untuk argumen secara posisi'.center(50, '='))\n",
    "deskripsi_hewan_peliharaan('Donnie')\n",
    "\n",
    "# argumen dengan kata kunci\n",
    "print('\\n' + 'Tampilan untuk argumen kata kunci'.center(50, '='))\n",
    "deskripsi_hewan_peliharaan(nama='Harry', jenis_binatang='anjing')"
   ]
  },
  {
   "cell_type": "markdown",
   "metadata": {},
   "source": [
    "# **5. Menghasilkan Nilai Balikan**\n",
    "\n",
    "Pernyataan `return` digunakan untuk menghasilkan nilai balikan dari suatu fungsi.\n",
    "\n",
    "**Contoh Kode:**"
   ]
  },
  {
   "cell_type": "code",
   "execution_count": 4,
   "metadata": {},
   "outputs": [
    {
     "name": "stdout",
     "output_type": "stream",
     "text": [
      "Hasil Penjumlahan = 8\n"
     ]
    }
   ],
   "source": [
    "def penjumlahan(a, b):\n",
    "    \"\"\"Fungsi untuk menambahkan dua buah bilangan\"\"\"\n",
    "    return a + b\n",
    "\n",
    "hasil = penjumlahan(3, 5)\n",
    "print(f'Hasil Penjumlahan = {hasil}')"
   ]
  },
  {
   "cell_type": "markdown",
   "metadata": {},
   "source": [
    "# **6. Fungsi Lambda**\n",
    "\n",
    "Fungsi lambda adalah fungsi anonim sederhana yang didefinisikan dengan menggunakan kata kunci `lambda`. Fungsi tersebut bisa memiliki argumen dalam jumlah berapapun tetapi hanya memiliki sebaris kode ekspresi sebagai isinya.\n",
    "\n",
    "**Syntax:**\n",
    "```\n",
    "lambda argumen: ekspresi\n",
    "```\n",
    "**Contoh Kode:**"
   ]
  },
  {
   "cell_type": "code",
   "execution_count": 5,
   "metadata": {},
   "outputs": [
    {
     "name": "stdout",
     "output_type": "stream",
     "text": [
      "Hasil penjumlahan = 5\n"
     ]
    }
   ],
   "source": [
    "penjumlahan = lambda x, y: x + y\n",
    "print(f'Hasil penjumlahan = {penjumlahan(2, 3)}')"
   ]
  },
  {
   "cell_type": "markdown",
   "metadata": {},
   "source": [
    "# **7. Menulis Docstrings dan Tipe Data Parameter**\n",
    "\n",
    "**Docstrings**\n",
    "\n",
    "*Docstrings* pada dasarnya menyediakan sebuah deskripsi singkat dari suatu fungsi, meliputi parameter yang diperlukan dan hasil nilai balikannya. Menyediakan dokumentasi untuk suatu fungsi sangatlah penting untuk beberapa alasan:\n",
    "1. **Clarity**: Dokumentasi membantu kita dan orang lain untuk memahami apa yang dijalankan oleh suatu fungsi, beserta informasi lainnya terkait dengan parameter dan nilai balikan.\n",
    "2. **Maintenance**: Kode yang terdokumentasi dengan baik memudahkan proses pengelolaan dan pembaruan lanjutan.\n",
    "3. **Collaboration**: Ketika bekerja di dalam sebuah tim, dokumentasi memastikan bahwa tiap orang memahami bagaimana cara menggunakan fungsi tersebut dengan benar.\n",
    "\n",
    "Dalam Python, *docstrings* digunakan untuk mendokumentasikan sebuah fungsi. Pada dasarnya, *docstrings* adalah sebuah string literal yang muncul tepat setelah proses definisi, tidak hanya fungsi, tetapi juga *module*, *class*, ataupun *method*. Hal ini akan dibahas lebih lanjut pada chapter lainnya.\n",
    "\n",
    "**Tipe Data Parameter**\n",
    "\n",
    "Meskipun penulisan secara eksplisit mengenai tipe data parameter tidak diperlukan dalam pembuatan suatu fungsi di Python, tetapi hal ini sangatlah penting dilakukan untuk beberapa alasan:\n",
    "1. **Clarity**: Tipe data yang ditentukan akan membantu orang lain dalam memahami tipe data argumen apa yang harus diberikan.\n",
    "2. **Error Prevention**: Hal ini meminimalisir kemungkinan terjadinya *error* dengan memastikan tipe data yang benar.\n",
    "3. **Tooling Support**: Banyak IDE (Integrated Development environment) atau aplikasi editor teks yang dapat menyediakan fitur *autocomplete* dan *error-checking* ketika tipe data ditentukan.\n",
    "\n",
    "Dalam Python, kita dapat menentukan tipe data dengan menggunakan petunjuk karakter `:`. Karakter ini tidak akan menolak tipe data lainnya pada argumen yang diterima oleh suatu fungsi, tetapi lebih kepada menyediakan sebuah petunjuk untuk orang lain ketika menggunakan fungsi tersebut.\n",
    "\n",
    "**Syntax:**\n",
    "```\n",
    "def nama_fungsi(param1: type, param2: type) -> return type:\n",
    "    \"\"\"\n",
    "    Deskripsi singkat mengenai fungsi ini.\n",
    "\n",
    "    Parameter:\n",
    "    param1 (type): Deskripsi param1\n",
    "    param2 (type): Deskripsi param2\n",
    "\n",
    "    Return:\n",
    "    type: Deskripsi nilai balikan\n",
    "    \"\"\"\n",
    "\n",
    "    # Isi Fungsi\n",
    "    ...\n",
    "    ...\n",
    "    return value\n",
    "```\n",
    "**Contoh Kode:**"
   ]
  },
  {
   "cell_type": "code",
   "execution_count": 6,
   "metadata": {},
   "outputs": [
    {
     "name": "stdout",
     "output_type": "stream",
     "text": [
      "Hasil Penjumlahan = 8\n"
     ]
    }
   ],
   "source": [
    "# Fungsi dengan spesifikasi tipe data argumen lebih dari satu menggunakan `Union`\n",
    "from typing import Union\n",
    "\n",
    "def penjumlahan(a: Union[int, float], b: Union[int, float]) -> Union[int, float]: # Python versi 3.10 kebawah\n",
    "# def penjumlahan(a: int | float, b: int | float) -> int | float: Python versi 3.10 keatas\n",
    "    \"\"\"\n",
    "    Menambahkan dua buah bilangan.\n",
    "\n",
    "    Parameter:\n",
    "    a (int atau float): Bilangan pertama\n",
    "    b (int atau float): Bilangan kedua\n",
    "\n",
    "    Return:\n",
    "    int or float: Hasil penjumlahkan dari a dan b\n",
    "    \"\"\"\n",
    "\n",
    "    return a + b\n",
    "\n",
    "# contoh penggunaan\n",
    "print(f'Hasil Penjumlahan = {penjumlahan(3, 5)}')"
   ]
  },
  {
   "cell_type": "markdown",
   "metadata": {},
   "source": [
    "# **Contoh Proyek: Kalkulator Sederhana**\n",
    "\n",
    "Berikut ini adalah project yang menerapkan berbagai bahan pembelajaran yang sudah dikenalkan sebelumnya dan yang ada di *notebook* ini."
   ]
  },
  {
   "cell_type": "code",
   "execution_count": 7,
   "metadata": {},
   "outputs": [
    {
     "name": "stdout",
     "output_type": "stream",
     "text": [
      "Angka Pertama = 10.0\n",
      "Angka Kedua = 2.5\n",
      "Hasil Pembagian = 4.0\n"
     ]
    }
   ],
   "source": [
    "# membuat berbagai fungsi untuk operasi aritmetika\n",
    "# tidak memerlukan `Union` karena spesifikasi tipe data hanya satu saja\n",
    "def penjumlahan(a: float, b: float) -> float:\n",
    "    \"\"\"\n",
    "    Menambahkan dua buah bilangan.\n",
    "\n",
    "    Parameter:\n",
    "    a (float): Bilangan pertama\n",
    "    b (float): Bilangan kedua\n",
    "\n",
    "    Return:\n",
    "    float: Hasil penjumlahan dari a dan b\n",
    "    \"\"\"\n",
    "\n",
    "    return a + b\n",
    "\n",
    "def pengurangan(a: float, b: float) -> float:\n",
    "    \"\"\"\n",
    "    Mengurangkan sebuah bilangan dengan bilangan lainnya.\n",
    "\n",
    "    Parameter:\n",
    "    a (float): Bilangan pertama\n",
    "    b (float): Bilangan kedua\n",
    "\n",
    "    Return:\n",
    "    float: Hasil pengurangan dari a dengan b\n",
    "    \"\"\"\n",
    "\n",
    "    return a - b\n",
    "\n",
    "def perkalian(a: float, b: float) -> float:\n",
    "    \"\"\"\n",
    "    Mengalikan dua buah bilangan.\n",
    "\n",
    "    Parameter:\n",
    "    a (float): Bilangan pertama\n",
    "    b (float): Bilangan kedua\n",
    "\n",
    "    Return:\n",
    "    float: Hasil perkalian dari a dan b\n",
    "    \"\"\"\n",
    "\n",
    "    return a * b\n",
    "\n",
    "def pembagian(a: float, b: float) -> float:\n",
    "    \"\"\"\n",
    "    Membagi sebuah bilangan dengan bilangan lainnya.\n",
    "\n",
    "    Parameter:\n",
    "    a (float): Bilangan pertama\n",
    "    b (float): Bilangan kedua\n",
    "\n",
    "    Return:\n",
    "    float: Hasil pembagian dari a dengan b\n",
    "    \"\"\"\n",
    "\n",
    "    if b != float(0): # memastikan denominator tidak bernilai nol\n",
    "        return a / b\n",
    "    else: # jika nol, maka akan menghasilkan error\n",
    "        return 'Error: Pembagian oleh nol'\n",
    "    \n",
    "def kalkulator():\n",
    "    num1 = float(input('Masukkan bilangan pertama = '))\n",
    "    print(f'Angka Pertama = {num1}')\n",
    "\n",
    "    while True:\n",
    "        operasi = input('Masukkan operasi (+, -, *, /) = ')\n",
    "\n",
    "        if operasi in ['+', '-', '*', '/']:\n",
    "            num2 = float(input('Masukkan bilangan kedua = '))\n",
    "            print(f'Angka Kedua = {num2}')\n",
    "            break\n",
    "        else:\n",
    "            print('Error: Operasi tidak valid.')\n",
    "\n",
    "    if operasi == '+':\n",
    "        print(f'Hasil Penjumlahan = {penjumlahan(num1, num2)}')\n",
    "    elif operasi == '-':\n",
    "        print(f'Hasil Pengurangan = {pengurangan(num1, num2)}')\n",
    "    elif operasi == '*':\n",
    "        print(f'Hasil Perkalian = {perkalian(num1, num2)}')\n",
    "    else:\n",
    "        print(f'Hasil Pembagian = {pembagian(num1, num2)}')\n",
    "\n",
    "kalkulator()"
   ]
  }
 ],
 "metadata": {
  "kernelspec": {
   "display_name": "Python 3",
   "language": "python",
   "name": "python3"
  },
  "language_info": {
   "codemirror_mode": {
    "name": "ipython",
    "version": 3
   },
   "file_extension": ".py",
   "mimetype": "text/x-python",
   "name": "python",
   "nbconvert_exporter": "python",
   "pygments_lexer": "ipython3",
   "version": "3.9.13"
  }
 },
 "nbformat": 4,
 "nbformat_minor": 2
}
