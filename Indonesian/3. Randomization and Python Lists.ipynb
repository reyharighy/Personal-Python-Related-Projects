{
 "cells": [
  {
   "cell_type": "markdown",
   "metadata": {},
   "source": [
    "# **1. Randomization**\n",
    "\n",
    "Dalam pemrograman, *randomization* atau pengacakan adalah sebuah proses menentukan pilihan atau menghasilkan nilai dengan cara yang tidak terprediksi. Hal ini sangatlah berguna pada berbagai aplikasi, seperti simulasi, *game*, atau pengujian acak. \n",
    "\n",
    "Python menyediakan sebuah modul bawaan (*built-in module*) dengan nama `random` yang membantu kita untuk menghasilkan angka atau mengambil pilihan secara acak.\n",
    "\n",
    "# **2. Menghasilkan Nilai Acak**\n",
    "\n",
    "Kita dapat menggunakan module `random` untuk menghasilkan nilai acak. Berikut adalah beberapa fungsi umum yang biasa digunakan:\n",
    "\n",
    "- `random.random()`: Menghasilkan bilangan pecahan (float) secara acak antara `0.0` dan `1.0`.\n",
    "- `random.randint(a, b)`: Menghasilkan bilangan bulat (integer) secara acak antara nilai `a` dan `b`.\n",
    "\n",
    "Modul `random` memiliki banyak fungsi lainnya yang bisa digunakan untuk melakukan berbagai tugas lainnya. Kamu bisa mempelajari lebih lanjut pada link berikut: [`random` - Generate pseudo-random numbers](https://docs.python.org/3/library/random.html#bookkeeping-functions).\n",
    "\n",
    "**Contoh Kode:**"
   ]
  },
  {
   "cell_type": "code",
   "execution_count": 1,
   "metadata": {},
   "outputs": [
    {
     "name": "stdout",
     "output_type": "stream",
     "text": [
      "Bilangan Pecahan Acak: 0.4420169817835802\n",
      "Bilangan Bulat Acak: 3\n"
     ]
    }
   ],
   "source": [
    "import random\n",
    "\n",
    "# menghasilkan nilai acak float\n",
    "random_float = random.random()\n",
    "print(f\"Bilangan Pecahan Acak: {random_float}\")\n",
    "\n",
    "# menghasilkan nilai acak integer\n",
    "random_int = random.randint(1, 10)\n",
    "print(f\"Bilangan Bulat Acak: {random_int}\")"
   ]
  },
  {
   "cell_type": "markdown",
   "metadata": {},
   "source": [
    "# **3. Python Lists**\n",
    "\n",
    "*List* atau daftar adalah tipe data koleksi yang paling umum di Python. Sebuah daftar memuat seperangkat elemen yang disusun secara terurut dan isinya bisa dimodifikasi. Tiap elemen di dalamnya bisa bertipe data apa saja, termasuk tipe data daftar itu sendiri.\n",
    "\n",
    "**Membuat Lists**\n",
    "\n",
    "Kita dapat membuat sebuah variabel bertipe *list* dengan menggunakan sintaksis berupa kurung tegak dengan tanda koma untuk memisahkan berbagai elemen yang dimuat.\n",
    "\n",
    "**Contoh Kode:**"
   ]
  },
  {
   "cell_type": "code",
   "execution_count": 2,
   "metadata": {},
   "outputs": [],
   "source": [
    "# contoh list kosong\n",
    "daftar_kosong = []\n",
    "\n",
    "# contoh list dengan beberapa elemen\n",
    "daftar_buah = ['apel','pisang','mangga']\n",
    "daftar_angka = [1,2,3,4,5]\n",
    "daftar_tipe_data_campuran = [10,'hello',True,3.14]"
   ]
  },
  {
   "cell_type": "markdown",
   "metadata": {},
   "source": [
    "**Mengakses Elemen Lists**\n",
    "\n",
    "Kita dapat mengakses elemen di dalam suatu daftar menggunakan indeks berupa angka. Sama halnya dengan mengakses *substring* pada suatu string, indeks pertama diawali dengan angka `0`.\n",
    "\n",
    "Perlu diingat bahwa indeks yang digunakan harus valid dengan elemen yang termuat di sebuah daftar. Misalnya, sebuah daftar berisi 3 elemen akan menghasilkan *error* jika indeks yang diberikan tidak sesuai, seperti lebih dari 2 (`list[3]` atau `list[5]`).\n",
    "\n",
    "**Contoh Kode:**"
   ]
  },
  {
   "cell_type": "code",
   "execution_count": 3,
   "metadata": {},
   "outputs": [
    {
     "name": "stdout",
     "output_type": "stream",
     "text": [
      "Buah Pertama: apel\n",
      "Buah Kedua: pisang\n",
      "Buah Ketiga: mangga\n"
     ]
    },
    {
     "ename": "IndexError",
     "evalue": "list index out of range",
     "output_type": "error",
     "traceback": [
      "\u001b[1;31m---------------------------------------------------------------------------\u001b[0m",
      "\u001b[1;31mIndexError\u001b[0m                                Traceback (most recent call last)",
      "Cell \u001b[1;32mIn[3], line 13\u001b[0m\n\u001b[0;32m     10\u001b[0m \u001b[38;5;28mprint\u001b[39m(\u001b[38;5;124mf\u001b[39m\u001b[38;5;124m'\u001b[39m\u001b[38;5;124mBuah Ketiga: \u001b[39m\u001b[38;5;132;01m{\u001b[39;00mdaftar_buah[\u001b[38;5;241m2\u001b[39m]\u001b[38;5;132;01m}\u001b[39;00m\u001b[38;5;124m'\u001b[39m)\n\u001b[0;32m     12\u001b[0m \u001b[38;5;66;03m# akses buah keempat\u001b[39;00m\n\u001b[1;32m---> 13\u001b[0m \u001b[38;5;28mprint\u001b[39m(\u001b[38;5;124mf\u001b[39m\u001b[38;5;124m'\u001b[39m\u001b[38;5;124mBuah Keempat: \u001b[39m\u001b[38;5;132;01m{\u001b[39;00mdaftar_buah[\u001b[38;5;241m3\u001b[39m]\u001b[38;5;132;01m}\u001b[39;00m\u001b[38;5;124m'\u001b[39m) \u001b[38;5;66;03m# index error\u001b[39;00m\n",
      "\u001b[1;31mIndexError\u001b[0m: list index out of range"
     ]
    }
   ],
   "source": [
    "daftar_buah = ['apel','pisang','mangga']\n",
    "\n",
    "# akses buah pertama\n",
    "print(f'Buah Pertama: {daftar_buah[0]}')\n",
    "\n",
    "# akses buah kedua\n",
    "print(f'Buah Kedua: {daftar_buah[1]}')\n",
    "\n",
    "# akses buah ketiga\n",
    "print(f'Buah Ketiga: {daftar_buah[2]}')\n",
    "\n",
    "# akses buah keempat\n",
    "print(f'Buah Keempat: {daftar_buah[3]}') # index error"
   ]
  },
  {
   "cell_type": "markdown",
   "metadata": {},
   "source": [
    "**Modifikasi Elemen Lists**\n",
    "\n",
    "Karena tipe data *list* dapat diubah, maka kita dapat mengganti elemen yang ada di dalamnya.\n",
    "\n",
    "**Contoh Kode:**"
   ]
  },
  {
   "cell_type": "code",
   "execution_count": 4,
   "metadata": {},
   "outputs": [
    {
     "name": "stdout",
     "output_type": "stream",
     "text": [
      "['apel', 'jeruk', 'mangga']\n"
     ]
    }
   ],
   "source": [
    "daftar_buah = ['apel','pisang','mangga']\n",
    "\n",
    "# modifikasi elemen kedua (indeks nomor 1)\n",
    "daftar_buah[1] = 'jeruk'\n",
    "print(daftar_buah)"
   ]
  },
  {
   "cell_type": "markdown",
   "metadata": {},
   "source": [
    "**Menambahkan Elemen ke Lists**\n",
    "\n",
    "Kita dapat menambahkan elemen ke dalam sebuah data *list* dengan menggunakan berbagai metode, seperti `append()`, `insert()`, atau `extend()`.\n",
    "\n",
    "Berbagai metode lainnya yang dapat digunakan dengan tipe data `list` dapat dipelajari lebih lanjut pada link berikut: [More on Lists](https://docs.python.org/3/tutorial/datastructures.html#more-on-lists).\n",
    "\n",
    "**Contoh Kode:**"
   ]
  },
  {
   "cell_type": "code",
   "execution_count": 5,
   "metadata": {},
   "outputs": [
    {
     "name": "stdout",
     "output_type": "stream",
     "text": [
      "Daftar Buah: ['apel', 'pisang', 'mangga']\n",
      "Tambahkan jeruk di akhir: ['apel', 'pisang', 'mangga', 'jeruk']\n",
      "Sisipkan kiwi setelah apel: ['apel', 'kiwi', 'pisang', 'mangga', 'jeruk']\n",
      "Tambahkan ceri dan markisa seklaigus di akhir: ['apel', 'kiwi', 'pisang', 'mangga', 'jeruk', 'ceri', 'markisa']\n"
     ]
    }
   ],
   "source": [
    "daftar_buah = ['apel','pisang','mangga']\n",
    "print(f'Daftar Buah: {daftar_buah}')\n",
    "\n",
    "# menambahkan elemen di akhir list\n",
    "daftar_buah.append('jeruk')\n",
    "print(f'Tambahkan jeruk di akhir: {daftar_buah}')\n",
    "\n",
    "# menambahkan elemen lain di suatu posisi\n",
    "daftar_buah.insert(1, 'kiwi') # 1 sebagai indeks posisi, dan elemen yang ditambahkan adalah kiwi\n",
    "print(f'Sisipkan kiwi setelah apel: {daftar_buah}')\n",
    "\n",
    "# menambahkan beberapa elemen sekaligus\n",
    "daftar_buah_baru = ['ceri', 'markisa']\n",
    "daftar_buah.extend(daftar_buah_baru) # menambahkan ceri dan markisa di akhir list\n",
    "print(f'Tambahkan ceri dan markisa seklaigus di akhir: {daftar_buah}')"
   ]
  },
  {
   "cell_type": "markdown",
   "metadata": {},
   "source": [
    "**Menghapus Elemen Lists**\n",
    "\n",
    "Kita dapat menghapus elemen di dalam sebuah *list* dengan menggunakan berbagai metode, seperti `remove()`, `pop()`, dan `del`.\n",
    "\n",
    "Perlu diingat bahwa menghapus sebuah elemen memiliki syarat seperti ketika kita mengakses data. Jika elemen yang dihapus tidak ada di dalam daftar, maka akan menghasilkan *error*.\n",
    "\n",
    "**Contoh Kode:**"
   ]
  },
  {
   "cell_type": "code",
   "execution_count": 6,
   "metadata": {},
   "outputs": [
    {
     "name": "stdout",
     "output_type": "stream",
     "text": [
      "Daftar Buah: ['apel', 'pisang', 'mangga', 'jeruk', 'markisa']\n",
      "Hapus apel di dalam daftar: ['pisang', 'mangga', 'jeruk', 'markisa']\n",
      "Hapus elemen kedua: ['pisang', 'jeruk', 'markisa']\n",
      "Hapus elemen terakhir: ['pisang', 'jeruk']\n",
      "Hapus elemen pertama: ['jeruk']\n"
     ]
    },
    {
     "ename": "ValueError",
     "evalue": "list.remove(x): x not in list",
     "output_type": "error",
     "traceback": [
      "\u001b[1;31m---------------------------------------------------------------------------\u001b[0m",
      "\u001b[1;31mValueError\u001b[0m                                Traceback (most recent call last)",
      "Cell \u001b[1;32mIn[6], line 21\u001b[0m\n\u001b[0;32m     18\u001b[0m \u001b[38;5;28mprint\u001b[39m(\u001b[38;5;124mf\u001b[39m\u001b[38;5;124m'\u001b[39m\u001b[38;5;124mHapus elemen pertama: \u001b[39m\u001b[38;5;132;01m{\u001b[39;00mdaftar_buah\u001b[38;5;132;01m}\u001b[39;00m\u001b[38;5;124m'\u001b[39m)\n\u001b[0;32m     20\u001b[0m \u001b[38;5;66;03m# hapus elemen tertentu yang tidak ada di daftar\u001b[39;00m\n\u001b[1;32m---> 21\u001b[0m \u001b[43mdaftar_buah\u001b[49m\u001b[38;5;241;43m.\u001b[39;49m\u001b[43mremove\u001b[49m\u001b[43m(\u001b[49m\u001b[38;5;124;43m'\u001b[39;49m\u001b[38;5;124;43mmangga\u001b[39;49m\u001b[38;5;124;43m'\u001b[39;49m\u001b[43m)\u001b[49m \u001b[38;5;66;03m# value error\u001b[39;00m\n",
      "\u001b[1;31mValueError\u001b[0m: list.remove(x): x not in list"
     ]
    }
   ],
   "source": [
    "daftar_buah = ['apel','pisang','mangga', 'jeruk', 'markisa']\n",
    "print(f'Daftar Buah: {daftar_buah}')\n",
    "\n",
    "# hapus elemen tertentu seperti apel\n",
    "daftar_buah.remove('apel')\n",
    "print(f'Hapus apel di dalam daftar: {daftar_buah}')\n",
    "\n",
    "# hapus elemen berdasarkan indeks posisi\n",
    "daftar_buah.pop(1) # hapus elemen pada posisi kedua (indeks 1)\n",
    "print(f'Hapus elemen kedua: {daftar_buah}')\n",
    "\n",
    "# hapus elemen terakhir\n",
    "daftar_buah.pop()\n",
    "print(f'Hapus elemen terakhir: {daftar_buah}')\n",
    "\n",
    "# hapus elemen menggunakan metode del (harus menggunakan indeks)\n",
    "del daftar_buah[0]\n",
    "print(f'Hapus elemen pertama: {daftar_buah}')\n",
    "\n",
    "# hapus elemen tertentu yang tidak ada di daftar\n",
    "daftar_buah.remove('mangga') # value error"
   ]
  },
  {
   "cell_type": "markdown",
   "metadata": {},
   "source": [
    "**Perulangan dengan Lists**\n",
    "\n",
    "Kita dapat melakukan perulangan atau *loop* dengan mengakses elemen yang ada di dalam daftar menggunakan sintaksis `for`.\n",
    "\n",
    "**Contoh Kode:**"
   ]
  },
  {
   "cell_type": "code",
   "execution_count": 7,
   "metadata": {},
   "outputs": [
    {
     "name": "stdout",
     "output_type": "stream",
     "text": [
      "apel\n",
      "pisang\n",
      "mangga\n"
     ]
    }
   ],
   "source": [
    "daftar_buah = ['apel','pisang','mangga']\n",
    "\n",
    "for buah in daftar_buah:\n",
    "    print(buah)"
   ]
  },
  {
   "cell_type": "markdown",
   "metadata": {},
   "source": [
    "**Fungsi dan Metode untuk Lists**\n",
    "\n",
    "Python menyediakan berbagai fungsi dan metode bawaaan untuk berinteraksi dengan sebuah data bertipe *list*. Beberapa diantaranya adalah `len()`, `sorted()`, `reverse()`, dan `count()`.\n",
    "\n",
    "Fungsi `sorted()` dan `reverse()` biasanya digunakan untuk melakukan proses pengurutan elemen bilangan, tetapi bisa digunakan pada data bertipe string yang akan mengurutkan secara alfabet.\n",
    "\n",
    "**Contoh Kode:**"
   ]
  },
  {
   "cell_type": "code",
   "execution_count": 8,
   "metadata": {},
   "outputs": [
    {
     "name": "stdout",
     "output_type": "stream",
     "text": [
      "Daftar Angka: [3, 1, 4, 1, 5, 9, 2]\n",
      "Jumlah elemen: 7\n",
      "Urutkan elemen secara naik: [1, 1, 2, 3, 4, 5, 9]\n",
      "Urutkan elemen secara turun: [2, 9, 5, 1, 4, 1, 3]\n",
      "Hitung jumlah bilangan 1: 2\n",
      "Hitung jumlah bilangan 10: 0\n"
     ]
    }
   ],
   "source": [
    "daftar_angka = [3, 1, 4, 1, 5, 9, 2]\n",
    "print(f'Daftar Angka: {daftar_angka}')\n",
    "\n",
    "# hitung jumlah elemen\n",
    "print(f'Jumlah elemen: {len(daftar_angka)}')\n",
    "\n",
    "# urutkan secara naik elemen di dalam list\n",
    "daftar_terurut = sorted(daftar_angka)\n",
    "print(f'Urutkan elemen secara naik: {daftar_terurut}')\n",
    "\n",
    "# urutkan secara turun elemen di dalam list\n",
    "daftar_angka.reverse()\n",
    "print(f'Urutkan elemen secara turun: {daftar_angka}')\n",
    "\n",
    "# hitung jumlah elemen tertentu di dalam list \n",
    "print(f'Hitung jumlah bilangan 1: {daftar_angka.count(1)}')\n",
    "\n",
    "# hitung jumlah elemen tertentu yang tidak ada\n",
    "print(f'Hitung jumlah bilangan 10: {daftar_angka.count(10)}') # tidak error"
   ]
  },
  {
   "cell_type": "markdown",
   "metadata": {},
   "source": [
    "# **4. Ambil Acak Elemen Lists**\n",
    "\n",
    "Fungsi `random.choice()` dapat kita gunakan untuk memilih elemen di dalam suatu daftar secara acak, dengan syarat sebuah daftar tidak boleh kosong.\n",
    "\n",
    "**Contoh Kode:**"
   ]
  },
  {
   "cell_type": "code",
   "execution_count": 9,
   "metadata": {},
   "outputs": [
    {
     "name": "stdout",
     "output_type": "stream",
     "text": [
      "Pilihan Acak: markisa\n"
     ]
    },
    {
     "ename": "IndexError",
     "evalue": "list index out of range",
     "output_type": "error",
     "traceback": [
      "\u001b[1;31m---------------------------------------------------------------------------\u001b[0m",
      "\u001b[1;31mIndexError\u001b[0m                                Traceback (most recent call last)",
      "Cell \u001b[1;32mIn[9], line 10\u001b[0m\n\u001b[0;32m      8\u001b[0m \u001b[38;5;66;03m# ambil acak pada daftar kosong\u001b[39;00m\n\u001b[0;32m      9\u001b[0m daftar_kosong \u001b[38;5;241m=\u001b[39m []\n\u001b[1;32m---> 10\u001b[0m \u001b[43mrandom\u001b[49m\u001b[38;5;241;43m.\u001b[39;49m\u001b[43mchoice\u001b[49m\u001b[43m(\u001b[49m\u001b[43mdaftar_kosong\u001b[49m\u001b[43m)\u001b[49m \u001b[38;5;66;03m# index error\u001b[39;00m\n",
      "File \u001b[1;32mc:\\Users\\REY007\\AppData\\Local\\Programs\\Python\\Python39\\lib\\random.py:346\u001b[0m, in \u001b[0;36mRandom.choice\u001b[1;34m(self, seq)\u001b[0m\n\u001b[0;32m    344\u001b[0m \u001b[38;5;250m\u001b[39m\u001b[38;5;124;03m\"\"\"Choose a random element from a non-empty sequence.\"\"\"\u001b[39;00m\n\u001b[0;32m    345\u001b[0m \u001b[38;5;66;03m# raises IndexError if seq is empty\u001b[39;00m\n\u001b[1;32m--> 346\u001b[0m \u001b[38;5;28;01mreturn\u001b[39;00m \u001b[43mseq\u001b[49m\u001b[43m[\u001b[49m\u001b[38;5;28;43mself\u001b[39;49m\u001b[38;5;241;43m.\u001b[39;49m\u001b[43m_randbelow\u001b[49m\u001b[43m(\u001b[49m\u001b[38;5;28;43mlen\u001b[39;49m\u001b[43m(\u001b[49m\u001b[43mseq\u001b[49m\u001b[43m)\u001b[49m\u001b[43m)\u001b[49m\u001b[43m]\u001b[49m\n",
      "\u001b[1;31mIndexError\u001b[0m: list index out of range"
     ]
    }
   ],
   "source": [
    "import random\n",
    "\n",
    "# ambil sebuah elemen secara acak\n",
    "daftar_buah = ['apel','pisang','mangga', 'jeruk', 'markisa']\n",
    "pilihan_acak = random.choice(daftar_buah)\n",
    "print(f\"Pilihan Acak: {pilihan_acak}\")\n",
    "\n",
    "# ambil acak pada daftar kosong\n",
    "daftar_kosong = []\n",
    "random.choice(daftar_kosong) # index error"
   ]
  },
  {
   "cell_type": "markdown",
   "metadata": {},
   "source": [
    "# **Contoh Proyek: Permainan Suit**\n",
    "\n",
    "Berikut ini adalah project yang menerapkan berbagai bahan pembelajaran yang sudah dikenalkan sebelumnya dan yang ada di *notebook* ini."
   ]
  },
  {
   "cell_type": "code",
   "execution_count": 10,
   "metadata": {},
   "outputs": [
    {
     "name": "stdout",
     "output_type": "stream",
     "text": [
      "Selamat datang di permainan suit!\n",
      "\n",
      "        1. Batu\n",
      "        2. Gunting\n",
      "        3. Kertas\n",
      "        \n",
      "Kamu memilih gunting!\n",
      "\n",
      "    _______\n",
      "---'   ____)____\n",
      "          ______)\n",
      "       __________)\n",
      "      (____)\n",
      "---.__(___)\n",
      "\n",
      "Komputer memilih kertas!\n",
      "\n",
      "     _______\n",
      "---'    ____)____\n",
      "           ______)\n",
      "          _______)\n",
      "         _______)\n",
      "---.__________)\n",
      "\n",
      "Selamat! Kamu menang!\n",
      "Apakah kamu mau bermain lagi?\n",
      "Input salah, hanya menerima 'ya' atau 'tidak'\n",
      "\n",
      "        1. Batu\n",
      "        2. Gunting\n",
      "        3. Kertas\n",
      "        \n",
      "Pilihan angka 4 tidak ada. Silahkan pilih lagi!\n",
      "\n",
      "        1. Batu\n",
      "        2. Gunting\n",
      "        3. Kertas\n",
      "        \n",
      "Kamu memilih batu!\n",
      "\n",
      "    _______\n",
      "---'   ____)\n",
      "      (_____)\n",
      "      (_____)\n",
      "      (____)\n",
      "---.__(___)\n",
      "\n",
      "Komputer memilih batu!\n",
      "\n",
      "    _______\n",
      "---'   ____)\n",
      "      (_____)\n",
      "      (_____)\n",
      "      (____)\n",
      "---.__(___)\n",
      "\n",
      "Wow! Seri!\n",
      "Apakah kamu mau bermain lagi?\n",
      "Terimakasih sudah bermain :)\n"
     ]
    }
   ],
   "source": [
    "# buatkan gambar dalam tipe string\n",
    "\n",
    "batu = \"\"\"\n",
    "    _______\n",
    "---'   ____)\n",
    "      (_____)\n",
    "      (_____)\n",
    "      (____)\n",
    "---.__(___)\n",
    "\"\"\"\n",
    "\n",
    "gunting = \"\"\"\n",
    "    _______\n",
    "---'   ____)____\n",
    "          ______)\n",
    "       __________)\n",
    "      (____)\n",
    "---.__(___)\n",
    "\"\"\"\n",
    "\n",
    "kertas = \"\"\"\n",
    "     _______\n",
    "---'    ____)____\n",
    "           ______)\n",
    "          _______)\n",
    "         _______)\n",
    "---.__________)\n",
    "\"\"\"\n",
    "\n",
    "# buatkan tampilan awal pengguna\n",
    "print(\"Selamat datang di permainan suit!\")\n",
    "\n",
    "# perulangan agar permainan bisa dimainkan berkali-kali\n",
    "while True: # hierarki level 1\n",
    "\n",
    "    # buat variabel list\n",
    "    pilihan_pengguna_dan_komputer = [] # menampung pilihan pengguna dan komputer (saat awal masih kosong)\n",
    "    pilihan = ['batu','gunting','kertas'] # akses pilihan berdasarkan indeks\n",
    "\n",
    "    # perulangan untuk validasi input pengguna\n",
    "    while True: # hierarki level 2\n",
    "        tampilan_pengguna = \"\"\"\n",
    "        1. Batu\n",
    "        2. Gunting\n",
    "        3. Kertas\n",
    "        \"\"\"\n",
    "\n",
    "        print(tampilan_pengguna) # tampilkan pilihan ke pengguna\n",
    "        angka_masukkan = int(input('Masukkan angka pilihan kamu -> ')) # pengguna memilih berdasarkan angka\n",
    "\n",
    "        if angka_masukkan >= 1 and angka_masukkan <= 3: # jika input sesuai, antara 1 - 3\n",
    "            pilihan_pengguna = pilihan[angka_masukkan - 1] # akses elemen pilihan menggunakan indeks (0 - 2)\n",
    "            pilihan_pengguna_dan_komputer.append(pilihan_pengguna) # tambahkan pilihan pengguna ke list\n",
    "\n",
    "            # tampilkan gambar pilihan pengguna\n",
    "            if pilihan_pengguna == 'batu':\n",
    "                print('Kamu memilih batu!\\n' + batu)\n",
    "            elif pilihan_pengguna == 'gunting':\n",
    "                print('Kamu memilih gunting!\\n' + gunting)\n",
    "            else:\n",
    "                print('Kamu memilih kertas!\\n' + kertas)\n",
    "            \n",
    "            break # keluar dari hierarki level 2\n",
    "        else: # jika input tidak sesuai, eksekusi baris kode tercakup dan lakukan perulangan dari hierarki lv 2\n",
    "            print(f'Pilihan angka {angka_masukkan} tidak ada. Silahkan pilih lagi!') # informasikan ke pengguna bahwa input angka tidak valid\n",
    "\n",
    "    # variabel terkait pilihan komputer\n",
    "    angka_acak = random.randint(1, len(pilihan)) # ambil angka acak untuk pilihan komputer \n",
    "    pilihan_komputer = pilihan[angka_acak - 1] # akses elemen pilihan menggunakan indeks (0 - 2)\n",
    "    pilihan_pengguna_dan_komputer.append(pilihan_komputer) # tambahkan pilihan komputer ke list\n",
    "\n",
    "    # tampilkan gambar pilihan komputer\n",
    "    if pilihan_komputer == 'batu':\n",
    "        print('Komputer memilih batu!\\n' + batu)\n",
    "    elif pilihan_komputer == 'gunting':\n",
    "        print('Komputer memilih gunting!\\n' + gunting)\n",
    "    else:\n",
    "        print('Komputer memilih kertas!\\n' + kertas)\n",
    "\n",
    "    # tampilkan hasil permainan dengan membandingkan elemen pilihan pengguna dan komputer. Contoh ['batu','gunting'] berarti pengguna memilih batu dan komputer memilih gunting\n",
    "    if pilihan_pengguna_dan_komputer == ['batu','gunting'] or pilihan_pengguna_dan_komputer == ['gunting','kertas'] or pilihan_pengguna_dan_komputer == ['kertas','batu']:\n",
    "        print('Selamat! Kamu menang!')\n",
    "    elif pilihan_pengguna_dan_komputer == ['batu', 'kertas'] or pilihan_pengguna_dan_komputer == ['gunting','batu'] or pilihan_pengguna_dan_komputer == ['kertas','gunting']:\n",
    "        print('Yah! Kamu kalah!')\n",
    "    else: # pilihan pengguna dan komputer sama, maka hasilnya imbang\n",
    "        print('Wow! Seri!')\n",
    "    \n",
    "    # tanya pengguna untuk bermain lagi atau tidak\n",
    "    print('Apakah kamu mau bermain lagi?')\n",
    "    \n",
    "    # variabel untuk mengetahui pengguna bermain lagi atau tidak\n",
    "    main_lagi = False # False sebagai nilai awal\n",
    "\n",
    "    # terima balasan pengguna hingga valid\n",
    "    while True: # hierarki level 2\n",
    "        input_pengguna = input('(ya/tidak) -> ') # input pengguna\n",
    "\n",
    "        if input_pengguna == 'ya': # pengguna ingin bermain lagi\n",
    "            main_lagi = True # ubah variabel karena pengguna ingin bermain lagi\n",
    "        else: # jika tidak, periksa apakah input sudah valid\n",
    "            if input_pengguna != 'tidak': # ternyata input tidak valid, kemungkinan typo\n",
    "                print(\"Input salah, hanya menerima 'ya' atau 'tidak'\") # infokan ke pengguna\n",
    "                continue # lewati baris kode selanjutnya, dan lakukan perulangan dari hierari level 2 (meminta pengguna input kembali)\n",
    "\n",
    "        break # pengguna memilih ya, keluar dari hierarki level 2\n",
    "    \n",
    "    # jika tidak main lagi, maka keluar dari hierarki level 1\n",
    "    # jika main lagi, maka conditional statement di bawah akan dilewati dan melakukan perulangan dari hierarki level 1 (bermain lagi)\n",
    "    if not main_lagi:\n",
    "        print('Terimakasih sudah bermain :)')\n",
    "        break # keluar dari hierarki level 1 (tutup program)"
   ]
  }
 ],
 "metadata": {
  "kernelspec": {
   "display_name": "Python 3",
   "language": "python",
   "name": "python3"
  },
  "language_info": {
   "codemirror_mode": {
    "name": "ipython",
    "version": 3
   },
   "file_extension": ".py",
   "mimetype": "text/x-python",
   "name": "python",
   "nbconvert_exporter": "python",
   "pygments_lexer": "ipython3",
   "version": "3.9.13"
  }
 },
 "nbformat": 4,
 "nbformat_minor": 2
}
