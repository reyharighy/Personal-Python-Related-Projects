{
 "cells": [
  {
   "cell_type": "markdown",
   "metadata": {},
   "source": [
    "# **1. Mengolah Variabel**\n",
    "\n",
    "Variabel di Python dapat diolah dengan berbagai *built-in function* (fungsi bawaan) dan *special constructs* (konstruksi khusus) yang memudahkan proses pengelolaan dan manipulasi data.\n",
    "\n",
    "***Built-in Functions***\n",
    "\n",
    "Adapun fungsi-fungsi yang selalu tersedia di Python tanpa harus repot mengimpor modulnya. Misalnya:\n",
    "1. `input()`: Membaca baris input, biasanya dari pengguna.\n",
    "2. `print()`: Menampilkan pesan ke konsol atau perangkat penampil standar lainnya.\n",
    "3. `type()`: Mengetahui tipe data dari suatu objek.\n",
    "4. `round()`: Membulatkan angka pecahan desimal.\n",
    "\n",
    "***Special Constructs***\n",
    "1. F-string (`f\"\"`): Sintaksis khusus yang ada di Python bersi 3.6 atau lebih dengan tujuan untuk memformat sebuah string. Sebuah ekspresi pemrograman dapat disisipkan menggunakan kurung kurawal `{}` sehingga penyisipan nilai dan ekspresi bisa dilakukan secara dinamis dan langsung di dalam sebuah string.\n",
    "2. Metode Format (`str.format()`): Cara lain untuk memformat sebuah string dengan menyisipkan variabel atau ekspresi ke dalam penampung kurung kurawal `{}` di dalam string. Jika kurung kurawal lebih dari satu, maka penampung kurawal akan diisi secara berurutan.\n",
    "3. Variabel yang disisipkan dapat bertipe data primitif selain string dengan perlakuan khusus terhadap variabel tersebut sebagai string literal. Jika ditampilkan menggunakan fungsi `print()`, data dari variabel tersebut akan ditampilkan apa adanya.\n",
    "\n",
    "**Contoh Kode:**"
   ]
  },
  {
   "cell_type": "code",
   "execution_count": 1,
   "metadata": {},
   "outputs": [
    {
     "name": "stdout",
     "output_type": "stream",
     "text": [
      "Tipe data -> <class 'str'>\n",
      "Data -> data dari pengguna\n",
      "Tipe pertama -> f\"\"\n",
      "Tipe Kedua -> str.format()\n",
      "Tipe data integer -> 1\n",
      "Tipe data float -> 3.14\n",
      "Tipe data boolean True\n"
     ]
    }
   ],
   "source": [
    "# misalkan kita buat variabel input dari pengguna\n",
    "variabel_input = input(\"Masukkan data pada variabel ini: \")\n",
    "\n",
    "# periksa tipe data dan tampilkan nilainya dari variabel yang diperiksa \n",
    "print(f\"Tipe data -> {type(variabel_input)}\")\n",
    "print(f\"Data -> {variabel_input}\")\n",
    "\n",
    "# f-string menggunakan dua konstruksi spesial\n",
    "tipe_pertama = 'f\"\"'\n",
    "tipe_kedua = \"str.format()\"\n",
    "print(f\"Tipe pertama -> {tipe_pertama}\")\n",
    "print(\"Tipe Kedua -> {}\".format(tipe_kedua))\n",
    "\n",
    "# tipe data non-string\n",
    "tipe_int = 1\n",
    "tipe_float = 3.14\n",
    "tipe_bool = True\n",
    "print(f\"Tipe data integer -> {tipe_int}\")\n",
    "print(f\"Tipe data float -> {tipe_float}\")\n",
    "print(f\"Tipe data boolean {tipe_bool}\")"
   ]
  },
  {
   "cell_type": "markdown",
   "metadata": {},
   "source": [
    "# **2. Tipe Data Primitif di Python**\n",
    "\n",
    "Ada 4 tipe data primitif di Python: String, Integer, Float, dan Boolean.\n",
    "\n",
    "**Tipe Data String**\n",
    "\n",
    "Saat membuat data bertipe string, kita harus membungkus teks dengan tanda kutip, baik dengan menggunakan tanda kutip tunggal (`' '`) atau ganda (`\" \"`). Selain itu, ada banyak cara untuk memanipulasi sebuah string agar dapat menggunakan karakter tanda kutip, seperti dengan bantuan tanda kutip tunggal dan ganda bertingkat, atau karakter *escape* (`\\`). Berikut ini beberapa cara yang benar:\n",
    "\n",
    "**Contoh Kode:**"
   ]
  },
  {
   "cell_type": "code",
   "execution_count": 2,
   "metadata": {},
   "outputs": [
    {
     "name": "stdout",
     "output_type": "stream",
     "text": [
      "String pertama -> Halo\n",
      "String kedua -> dengan satu tanda kutip\n",
      "String dengan satu tanda kutip -> Si gadis menjawab, 'Saya tidak ingin pergi sendirian.'. Dia terlihat menggigil karena kedinginan.\n",
      "String dengan dua tanda kutip -> Rene Deschartes menulis, \"Saya berpikir; maka saya ada\".\n",
      "String dengan satu tanda kutip menggunakan karakter escape -> Berikut adalah contoh penggunaan karakter 'escape' pada string dengan satu tanda kutip\n",
      "String dengan dua tanda kutip menggunakan karakter escape -> Cara lain, kita dapat menggunakan karakter \"escape\" pada string dengan dua tanda kutip\n",
      "<class 'str'>\n"
     ]
    }
   ],
   "source": [
    "# buatkan berbagai variabel untuk berbagai penggunaan jenis tanda kutip\n",
    "string_pertama = \"Halo\"\n",
    "string_kedua = 'dengan satu tanda kutip'\n",
    "satu_tanda_kutip = \"Si gadis menjawab, 'Saya tidak ingin pergi sendirian.'. Dia terlihat menggigil karena kedinginan.\"\n",
    "dua_tanda_kutip = 'Rene Deschartes menulis, \"Saya berpikir; maka saya ada\".'\n",
    "escape_satu_tanda_kutip = 'Berikut adalah contoh penggunaan karakter \\'escape\\' pada string dengan satu tanda kutip'\n",
    "escape_dua_tanda_kutip = \"Cara lain, kita dapat menggunakan karakter \\\"escape\\\" pada string dengan dua tanda kutip\"\n",
    "\n",
    "# tampilkan seluruh variabel di atas\n",
    "print(f\"String pertama -> {string_pertama}\")\n",
    "print(f\"String kedua -> {string_kedua}\")\n",
    "print(f\"String dengan satu tanda kutip -> {satu_tanda_kutip}\")\n",
    "print(f\"String dengan dua tanda kutip -> {dua_tanda_kutip}\")\n",
    "print(f\"String dengan satu tanda kutip menggunakan karakter escape -> {escape_satu_tanda_kutip}\")\n",
    "print(f\"String dengan dua tanda kutip menggunakan karakter escape -> {escape_dua_tanda_kutip}\")\n",
    "print(type(\"a string\"))"
   ]
  },
  {
   "cell_type": "markdown",
   "metadata": {},
   "source": [
    "**Penggunaan Tiga Tanda Kutip**\n",
    "\n",
    "Sebuah data string panjang hingga beberapa baris bisa dilakukan dengan membungkus data dengan tiga tanda kutip. Biasanya dipakai untuk memberikan dokumentasi dari suatu kode. Beberapa karakter khusus seperti TAB, verbatim, dan *Newline* (garis baru) dapat digunakan di dalam tanda ini. Berikut adalah variabel yang menggunakan tiga tanda kutip. Bisa dilihat jika karakter *escape* tidak dipakai untuk membuat garis baru, meskipun menggunakannya juga diperbolehkan.\n",
    "\n",
    "**Contoh Kode:**"
   ]
  },
  {
   "cell_type": "code",
   "execution_count": 3,
   "metadata": {},
   "outputs": [
    {
     "name": "stdout",
     "output_type": "stream",
     "text": [
      "Contoh pertama dengan karakter escape newline:\n",
      "Ini baris pertama.\n",
      "Setelah karakter escape newline, ini baris kedua.\n",
      "\n",
      "Contoh kedua dengan tiga tanda kutip:\n",
      "\"This course is very well structured and easy to learn. Anyone with \n",
      "zero experience of data science, python or ML can learn from this. \n",
      "This course makes things so easy that anybody can learn on their own. \n",
      "It's helping me a lot. Thanks for creating such a great course.\" - oleh Anonim\n"
     ]
    }
   ],
   "source": [
    "# buatkan variabel tipe string yang berisi banyak baris menggunakan karakter newline dan tiga tanda kutip\n",
    "karakter_escape = \"Ini baris pertama.\\nSetelah karakter escape newline, ini baris kedua.\"\n",
    "tiga_tanda_kutip = \"\"\"\"This course is very well structured and easy to learn. Anyone with \n",
    "zero experience of data science, python or ML can learn from this. \n",
    "This course makes things so easy that anybody can learn on their own. \n",
    "It's helping me a lot. Thanks for creating such a great course.\" - oleh Anonim\"\"\"\n",
    "\n",
    "# tampilkan seluruh variabel di atas\n",
    "print(f\"Contoh pertama dengan karakter escape newline:\\n{karakter_escape}\\n\")\n",
    "print(f\"Contoh kedua dengan tiga tanda kutip:\\n{tiga_tanda_kutip}\")"
   ]
  },
  {
   "cell_type": "markdown",
   "metadata": {},
   "source": [
    "***Substring***\n",
    "\n",
    "Untuk mengambil bagian tertentu dari sebuah data string, kita dapat menggunakan tanda kurung tegak dan indeks posisi yang dimulai dari angka 0, bukan 1. Untuk mengambil karakter secara berurutan, kita dapat menggunakan operator `:` dengan indeks awal ada di sebelah kiri, dan indeks akhir di sebelah kanan. Perlu diingat bahwa indeks akhir digunakan sebagai penanda akhir, tetapi tidak menyertakan karakter pada indeks tersebut. Selain itu, karakter terakhir dari sebuah string dapat diakses menggunakan angka -1.\n",
    "\n",
    "**Contoh Kode:**"
   ]
  },
  {
   "cell_type": "code",
   "execution_count": 4,
   "metadata": {},
   "outputs": [
    {
     "name": "stdout",
     "output_type": "stream",
     "text": [
      "String yang diakses -> 'Hello'\n",
      "Karakter Pertama -> 'H'\n",
      "Karakter Kedua -> 'e'\n",
      "Karakter Terakhir -> 'o'\n",
      "Tiga Karakter Terakhir -> 'llo'\n",
      "Karakter Tengah -> 'l'\n"
     ]
    }
   ],
   "source": [
    "# buatkan sebuah variabel dan beberapa variabel substring dari variabel pertama\n",
    "sebuah_string = \"Hello\"\n",
    "karakter_pertama = sebuah_string[0]\n",
    "karakter_kedua = \"Hello\"[1]\n",
    "karakter_terakhir = sebuah_string[-1]\n",
    "tiga_karakter_terakhir = sebuah_string[2:]\n",
    "karakter_tengah = sebuah_string[2:3]\n",
    "\n",
    "# tampilkan seluruh variabel di atas\n",
    "print(f\"String yang diakses -> '{sebuah_string}'\")\n",
    "print(f\"Karakter Pertama -> '{karakter_pertama}'\")\n",
    "print(f\"Karakter Kedua -> '{karakter_kedua}'\")\n",
    "print(f\"Karakter Terakhir -> '{karakter_terakhir}'\")\n",
    "print(f\"Tiga Karakter Terakhir -> '{tiga_karakter_terakhir}'\")\n",
    "print(f\"Karakter Tengah -> '{karakter_tengah}'\")"
   ]
  },
  {
   "cell_type": "markdown",
   "metadata": {},
   "source": [
    "**Manipulasi String**\n",
    "\n",
    "Sebuah data string terdiri dari berbagai karakter yang ditafsirkan secara terurut. Hal ini berarti bahwa angka di dalam sebuah data string tidak dapat digunakan untuk pengoperasian perhitungan dasar. Operasi bilangan akan dibahas pada bagian lain. Sebuah variabel bertipe string dapai dimanipulasi dengan banyak cara, seperti penggabungan, pemisahan, dan lainnya. Dengan demikian, penjumlahan dua buah angka bertipe string tidak akan menghasilkan perhitungan matematis, melainkan akan menggabungkan keduanya. Metode `split()` akan membagi sebuah string menjadi sebuah daftar *substring* yang dipisahkan oleh karakter tertentu.\n",
    "\n",
    "**Contoh Kode:**"
   ]
  },
  {
   "cell_type": "code",
   "execution_count": 5,
   "metadata": {},
   "outputs": [
    {
     "name": "stdout",
     "output_type": "stream",
     "text": [
      "Penggabungan berbagai string.\n",
      "Menggunakan operator '+' -> the first stringthe second string\n",
      "Menggunakan tanda ',' -> the first string the second string\n",
      "Menggunakan konstruksi f-string -> the first string the second string\n",
      "Lakukan penjumlahan pada dua string yang berisi angka -> 123456\n",
      "\n",
      "Memisahkan sebuah string.\n",
      "['the', 'first', 'string']\n",
      "the data type -> <class 'list'>\n"
     ]
    }
   ],
   "source": [
    "# buatkan berbagai variabel string dengan data teks dan angka\n",
    "teks_pertama = \"the first string\"\n",
    "teks_kedua = \"the second string\"\n",
    "angka_pertama = \"123\"\n",
    "angka_kedua = \"456\"\n",
    "\n",
    "# lakukan manipulasi string dengan berbagai cara\n",
    "print(\"Penggabungan berbagai string.\")\n",
    "print(\"Menggunakan operator '+' ->\", teks_pertama + teks_kedua)\n",
    "print(\"Menggunakan tanda ',' ->\", teks_pertama, teks_kedua)\n",
    "print(\"Menggunakan konstruksi f-string ->\", f\"{teks_pertama} {teks_kedua}\")\n",
    "print(\"Lakukan penjumlahan pada dua string yang berisi angka ->\", angka_pertama + angka_kedua)\n",
    "\n",
    "# pemisahan string\n",
    "print(\"\\nMemisahkan sebuah string.\")\n",
    "print(teks_pertama.split()) # by default split the string by space\n",
    "print(\"the data type ->\", type(teks_pertama.split()))"
   ]
  },
  {
   "cell_type": "markdown",
   "metadata": {},
   "source": [
    "**Tipe Data Integer**\n",
    "\n",
    "Dalam Python, data integer berlaku seperti angka utuh, baik positif maupun negatif, tanpa tanda pecahan desimal, dan bisa dalam jumlah angka tak terbatas. Penggunaan angka nol di awal untuk data integer selain nol tidak diperbolehkan (seperti `00123` tidak dibolehkan, dan secara otomatis akan menjadi `123`). Meskipun begitu, data integer bernilai `0` diperbolehkan meskipun diawali oleh angka nol lainnya (`0000` akan tetap `0`).\n",
    "\n",
    "**Contoh Kode:**"
   ]
  },
  {
   "cell_type": "code",
   "execution_count": 6,
   "metadata": {},
   "outputs": [
    {
     "name": "stdout",
     "output_type": "stream",
     "text": [
      "Angka nol -> '0' dan Angka nol ganda -> '0'\n",
      "Angka positif -> '100'\n",
      "Angka negatif -> '-10'\n",
      "Sebuah bilangan -> '1234567890'\n",
      "Sebuah bilangan angka banyak -> '5000000000000000000000000000000000000000000000000000000'\n",
      "<class 'int'>\n"
     ]
    }
   ],
   "source": [
    "# buatkan variabel tipe integer dengan berbagai cara\n",
    "nol = 0\n",
    "nol_ganda = 0000\n",
    "integer_positif = 100\n",
    "integer_negatif = -10\n",
    "sebuah_bilangan = 1234567890\n",
    "bilangan_angka_banyak = 5000000000000000000000000000000000000000000000000000000\n",
    "\n",
    "# tampilkan seluruh variabel di atas\n",
    "print(f\"Angka nol -> '{nol}' dan Angka nol ganda -> '{nol_ganda}'\")\n",
    "print(f\"Angka positif -> '{integer_positif}'\")\n",
    "print(f\"Angka negatif -> '{integer_negatif}'\")\n",
    "print(f\"Sebuah bilangan -> '{sebuah_bilangan}'\")\n",
    "print(f\"Sebuah bilangan angka banyak -> '{bilangan_angka_banyak}'\")\n",
    "print(type(1))"
   ]
  },
  {
   "cell_type": "markdown",
   "metadata": {},
   "source": [
    "**Karakter Spesial Garis Bawah**\n",
    "\n",
    "Dalam Python, kita dapat menyertakan karakter spesial garis bawah `_` secara langsung di dalam ekspresi data integer sebagai tanda pemisah. Teknik ini dapat diaplikasikan pada angka dengan jumlah digit yang banyak untuk memudahkan proses pembacaan tanpa ada dampak apapun terhadap nilainya.\n",
    "\n",
    "**Contoh Kode:**"
   ]
  },
  {
   "cell_type": "code",
   "execution_count": 7,
   "metadata": {},
   "outputs": [
    {
     "name": "stdout",
     "output_type": "stream",
     "text": [
      "Tampilan tanpa karakter pemisah -> 1000000\n",
      "Tampilan dengan karakter pemisah -> 1000000\n"
     ]
    }
   ],
   "source": [
    "# buatkan sebuah bilangan besar dengan penggunaan karakter pemisah\n",
    "sejuta = 1000000\n",
    "dengan_pemisah_angka = 1_000_000\n",
    "\n",
    "# tampilkan seluruh variabel di atas\n",
    "print(f\"Tampilan tanpa karakter pemisah -> {sejuta}\")\n",
    "print(f\"Tampilan dengan karakter pemisah -> {dengan_pemisah_angka}\")"
   ]
  },
  {
   "cell_type": "markdown",
   "metadata": {},
   "source": [
    "**Sistem Basis Angka Lainnya**\n",
    "\n",
    "Pada kehidupan sehari-hari, kita terbiasa menggunakan sistem bilangan berbasis desimal. Dalam Python, kita dapat bekerja dengan sistem basis bilangan lainnya, seperti biner, oktal, dan heksadesimal, dengan menggunakan prefix atau tanda awal spesial. Ketika menampilkan angka-angka tersebut, Python secara otomatis akan mengubahnya ke basis bilangan desimal untuk memudahkan pembacaan oleh pengguna.\n",
    "\n",
    "**Contoh Kode:**"
   ]
  },
  {
   "cell_type": "code",
   "execution_count": 8,
   "metadata": {},
   "outputs": [
    {
     "name": "stdout",
     "output_type": "stream",
     "text": [
      "Sistem Biner -> 15\n",
      "Sistem Oktal -> 10\n",
      "Sistem Heksadesimal -> 18\n"
     ]
    }
   ],
   "source": [
    "# buatkan variabel tipe integer untuk berbagai basis bilangan\n",
    "binary = 0b1111\n",
    "octal = 0o12\n",
    "hexadecimal = 0x12\n",
    "\n",
    "# tampilkan seluruh variabel di atas\n",
    "print(f\"Sistem Biner -> {binary}\")\n",
    "print(f\"Sistem Oktal -> {octal}\")\n",
    "print(f\"Sistem Heksadesimal -> {hexadecimal}\")"
   ]
  },
  {
   "cell_type": "markdown",
   "metadata": {},
   "source": [
    "**Konversi ke Integer**\n",
    "\n",
    "Fungsi `int()` akan mengubah tipe data selain integer menjadi integer.\n",
    "\n",
    "**Contoh Kode:**"
   ]
  },
  {
   "cell_type": "code",
   "execution_count": 9,
   "metadata": {},
   "outputs": [
    {
     "name": "stdout",
     "output_type": "stream",
     "text": [
      "Dari tipe data float -> <class 'float'> menjadi <class 'int'>. Setelah konversi, nilai variabel menjadi 3\n",
      "Dari tipe data string -> <class 'str'> menjadi <class 'int'>. Setelah konversi, nilai variabel menjadi 123\n"
     ]
    }
   ],
   "source": [
    "# buatkan variabel angka dengan tipe data selain integer\n",
    "float_data = 3.1459\n",
    "string_data = '123'\n",
    "\n",
    "# tampilkan seluruh variabel di atas\n",
    "print(f\"Dari tipe data float -> {type(float_data)} menjadi {type(int(float_data))}. Setelah konversi, nilai variabel menjadi {int(float_data)}\")\n",
    "print(f\"Dari tipe data string -> {type(string_data)} menjadi {type(int(string_data))}. Setelah konversi, nilai variabel menjadi {int(string_data)}\")"
   ]
  },
  {
   "cell_type": "markdown",
   "metadata": {},
   "source": [
    "**Tipe Data Float**\n",
    "\n",
    "Angka pada tipe data float bisa dalam bilangan nyata positif ataupun negatif dengan penanda pecahan `.`. Selain itu, kita juga dapat menggunakan penanda atau notasi saintifik `e`. Perlu diingat pula bahwa simbol garis bawah dapat digunakan juga untuk memudahkan pembacaan sebagaimana yang ada pada tipe integer.\n",
    "\n",
    "**Contoh Kode:**"
   ]
  },
  {
   "cell_type": "code",
   "execution_count": 10,
   "metadata": {},
   "outputs": [
    {
     "name": "stdout",
     "output_type": "stream",
     "text": [
      "Angka positif -> 1.42\n",
      "Angka negatif -> -1.42\n",
      "Angka dengan pecahan desimal sangat banyak -> 1000134564.3145\n"
     ]
    }
   ],
   "source": [
    "# buatkan variabel tipe float dengan berbagai cara\n",
    "positive_float = 1.42\n",
    "negative_float = -1.42\n",
    "dengan_delimiter = 1_000_134_564.3145\n",
    "\n",
    "# tampilkan seluruh variabel di atas\n",
    "print(f\"Angka positif -> {positive_float}\")\n",
    "print(f\"Angka negatif -> {negative_float}\")\n",
    "print(f\"Angka dengan pecahan desimal sangat banyak -> {dengan_delimiter}\")"
   ]
  },
  {
   "cell_type": "markdown",
   "metadata": {},
   "source": [
    "**Bilangan Saintifik**\n",
    "\n",
    "Notasi saintifik digunakan untuk meringkas data float yang memiliki banya digit sebagaimana yang dijelaskan pada bagian sebelumnya. Semua bilangan yang menggunakan karakter special ini secara otomatis akan dikonversi menjadi tipe data float.\n",
    "\n",
    "**Contoh Kode:**"
   ]
  },
  {
   "cell_type": "code",
   "execution_count": 11,
   "metadata": {},
   "outputs": [
    {
     "name": "stdout",
     "output_type": "stream",
     "text": [
      "Float dengan nilai seribu -> 1000.0\n",
      "Float dengan nilai sejuta -> 1000000.0\n",
      "Contoh bilangan lain -> 1234.56789 (1.23456789e3)\n",
      "Bilangan tak hingga -> inf (1e10000)\n"
     ]
    }
   ],
   "source": [
    "# buatkan variabel tipe float dengan menggunakan notasi saintifik\n",
    "seribu = 1e3\n",
    "sejuta = 1e6\n",
    "contoh_lain = 1.23456789e3\n",
    "nilai_tak_hingga = 1e10000\n",
    "\n",
    "# tampilkan seluruh variabel di atas\n",
    "print(f\"Float dengan nilai seribu -> {seribu}\")\n",
    "print(f\"Float dengan nilai sejuta -> {sejuta}\")\n",
    "print(f\"Contoh bilangan lain -> {contoh_lain} (1.23456789e3)\")\n",
    "print(f\"Bilangan tak hingga -> {nilai_tak_hingga} (1e10000)\")"
   ]
  },
  {
   "cell_type": "markdown",
   "metadata": {},
   "source": [
    "**Konversi ke Float**\n",
    "\n",
    "Fungsi `float()` mengubah tipe data selain float menjadi tipe float. Tidak seperti fungsi `int()`, fungsi ini punya banyak fleksibilitas, terutama ketika mengonversi data string. Sebagai contoh, sebuah string dengan bilangan pecahan \"3.1459\" tidak dapat menggunakan fungsi `int()` kecuali bilangan dengan basis 10 (seperti '13', '59', '100').\n",
    "\n",
    "**Contoh Kode:**"
   ]
  },
  {
   "cell_type": "code",
   "execution_count": 12,
   "metadata": {},
   "outputs": [
    {
     "name": "stdout",
     "output_type": "stream",
     "text": [
      "Dari tipe data float -> <class 'int'> menjadi <class 'float'>. Setelah konversi, nilai menjadi 1.0\n",
      "Dari tipe data string -> <class 'str'> menjadi <class 'float'>. Setelah konversi, nilai menjadi 123.0\n",
      "Dari string dengan bilangan pecahan -> <class 'str'> menjadi <class 'float'>. Setelah konversi, nilai menjadi 3.1459\n",
      "Dari string dengan notasi saintifik -> <class 'str'> into <class 'float'>. Setelah konversi, nilai menjadi 314.59\n"
     ]
    }
   ],
   "source": [
    "# buatkan berbagai variabel dengan nilai angka dari tipe selain float\n",
    "tipe_int = 1\n",
    "tipe_string = '3'\n",
    "tipe_string_pecahan = '3.1459'\n",
    "tipe_string_saintifik = '3.1459e2'\n",
    "\n",
    "# tampilkan seluruh variabel di atas\n",
    "print(f\"Dari tipe data float -> {type(tipe_int)} menjadi {type(float(tipe_int))}. Setelah konversi, nilai menjadi {float(tipe_int)}\")\n",
    "print(f\"Dari tipe data string -> {type(tipe_string)} menjadi {type(float(tipe_string))}. Setelah konversi, nilai menjadi {float(string_data)}\")\n",
    "print(f\"Dari string dengan bilangan pecahan -> {type(tipe_string_pecahan)} menjadi {type(float(tipe_string_pecahan))}. Setelah konversi, nilai menjadi {float(tipe_string_pecahan)}\")\n",
    "print(f\"Dari string dengan notasi saintifik -> {type(tipe_string_saintifik)} into {type(float(tipe_string_saintifik))}. Setelah konversi, nilai menjadi {float(tipe_string_saintifik)}\")"
   ]
  },
  {
   "cell_type": "markdown",
   "metadata": {},
   "source": [
    "**Operator Aritmetika**\n",
    "\n",
    "Operator aritmetika dapat digunakan pada data baik bertipe integer ataupun float. Perlu diingat bahwa operasi pembagian dari dua buah integer akan secara otomatis menghasilkan tipe data float. Ketika melibatkan sedikitnya satu tipe data float, hasil perhitungan akan menghasilkan tipe data float.\n",
    "\n",
    "**Contoh Kode:**"
   ]
  },
  {
   "cell_type": "code",
   "execution_count": 13,
   "metadata": {},
   "outputs": [
    {
     "name": "stdout",
     "output_type": "stream",
     "text": [
      "Penambahan dua integer-> 12 (<class 'int'>) dan salah satunya adalah float -> 10.5 (<class 'float'>)\n",
      "Pengurangan dua integer -> 8 (<class 'int'>) dan salah satunya adalah float -> 9.5 (<class 'float'>)\n",
      "Perkalian dua integer -> 20 (<class 'int'>) dan salah satunya adalah float -> 5.0 (<class 'float'>)\n",
      "Pembagian dua integer (kiri oleh kanan) -> 5.0 (<class 'float'>) dan salah satunya adalah float (kiri oleh kanan) -> 20.0 (<class 'float'>)\n",
      "Modulus dua integer (kiri oleh kanan) -> 0 (<class 'int'>) dan salah satunya adalah float (kiri oleh kanan) -> 0.0 (<class 'float'>)\n",
      "Pangkat dua dua buah integer (kiri oleh kanan) -> 100 (<class 'int'>) dan salah satunya adalah float (kiri oleh kanan) -> 3.1622776601683795 (<class 'float'>)\n",
      "Pembagian dengan pembulatan ke bawah dari dua integer (kiri oleh kanan) -> 5 (<class 'int'>) dan salah satunya adalah float (kiri oleh kanan) -> 20.0 (<class 'float'>)\n"
     ]
    }
   ],
   "source": [
    "# buatkan variabel untuk operasi aritmetika\n",
    "a = 10\n",
    "b = 2\n",
    "c = 0.5\n",
    "\n",
    "# tampilkan seluruh variabel di atas\n",
    "print(f\"Penambahan dua integer-> {a + b} ({type(a + b)}) dan salah satunya adalah float -> {a + c} ({type(a + c)})\")\n",
    "print(f\"Pengurangan dua integer -> {a - b} ({type(a - b)}) dan salah satunya adalah float -> {a - c} ({type(a - c)})\")\n",
    "print(f\"Perkalian dua integer -> {a * b} ({type(a * b)}) dan salah satunya adalah float -> {a * c} ({type(a * c)})\")\n",
    "print(f\"Pembagian dua integer (kiri oleh kanan) -> {a / b} ({type(a / b)}) dan salah satunya adalah float (kiri oleh kanan) -> {a / c} ({type(a / c)})\")\n",
    "print(f\"Modulus dua integer (kiri oleh kanan) -> {a % b} ({type(a % b)}) dan salah satunya adalah float (kiri oleh kanan) -> {a % c} ({type(a % c)})\")\n",
    "print(f\"Pangkat dua dua buah integer (kiri oleh kanan) -> {a ** b} ({type(a ** b)}) dan salah satunya adalah float (kiri oleh kanan) -> {a ** c} ({type(a ** c)})\")\n",
    "print(f\"Pembagian dengan pembulatan ke bawah dari dua integer (kiri oleh kanan) -> {a // b} ({type(a // b)}) dan salah satunya adalah float (kiri oleh kanan) -> {a // c} ({type(a // c)})\")"
   ]
  },
  {
   "cell_type": "markdown",
   "metadata": {},
   "source": [
    "**Tipe Data Boolean**\n",
    "\n",
    "Tipe data ini hanya memiliki dua nilai yang mungkin, yaitu `True` atau `False`. Perlu diingat bahwa tipe data ini sering digunakan dalam pemrograman untuk mengevaluasi apakah sesuatu bernilai benar atau tidak agar program dapat berjalan dengan semestinya.\n",
    "\n",
    "**Contoh Kode:**"
   ]
  },
  {
   "cell_type": "code",
   "execution_count": 14,
   "metadata": {},
   "outputs": [
    {
     "name": "stdout",
     "output_type": "stream",
     "text": [
      "True\n",
      "False\n",
      "<class 'bool'>\n"
     ]
    }
   ],
   "source": [
    "print(True)\n",
    "print(False)\n",
    "print(type(True))"
   ]
  },
  {
   "cell_type": "markdown",
   "metadata": {},
   "source": [
    "## **Contoh Proyek: Kalkulator Tip**\n",
    "\n",
    "Berikut ini adalah project yang menerapkan berbagai bahan pembelajaran yang ada di *notebook* ini. Perlu diingat bahwa kita menggunakan fungsi `round()` untuk membulatkan hasil perhitungan akhir dengan 2 angka di belakang koma."
   ]
  },
  {
   "cell_type": "code",
   "execution_count": 15,
   "metadata": {},
   "outputs": [
    {
     "name": "stdout",
     "output_type": "stream",
     "text": [
      "Total Tagihan = Rp 1255450.0.\n",
      "Persentase Tip = 11 %.\n",
      "Jumlah Orang = 6 orang.\n",
      "Dengan demikian, tiap orang harus membayar sebesar Rp 232258.25.\n"
     ]
    }
   ],
   "source": [
    "# penentuan variabel\n",
    "total_tagihan = float(input('Berapa total tagihan? => Rp '))\n",
    "tip = int(input(\"Berapa persen tips yang diberikan? => \"))\n",
    "jumlah_orang = int(input(\"Berapa jumlah orang yang bayar? => \"))\n",
    "\n",
    "# perhitungan\n",
    "persen_tip = tip / 100\n",
    "total_tip = persen_tip * total_tagihan\n",
    "tagihan_dengan_tip = total_tagihan + total_tip\n",
    "tagihan_per_orang = tagihan_dengan_tip / jumlah_orang\n",
    "\n",
    "# tampilkan informasi perhitungan\n",
    "print(\"Total Tagihan = Rp {}.\".format(round(total_tagihan, 0)))\n",
    "print(f\"Persentase Tip = {tip} %.\")\n",
    "print(f\"Jumlah Orang = {jumlah_orang} orang.\")\n",
    "print(\"Dengan demikian, tiap orang harus membayar sebesar Rp {}.\".format(round(tagihan_per_orang, 2))) # pembulatan pecahan hingga 2 angka di belakang koma"
   ]
  }
 ],
 "metadata": {
  "kernelspec": {
   "display_name": "Python 3",
   "language": "python",
   "name": "python3"
  },
  "language_info": {
   "codemirror_mode": {
    "name": "ipython",
    "version": 3
   },
   "file_extension": ".py",
   "mimetype": "text/x-python",
   "name": "python",
   "nbconvert_exporter": "python",
   "pygments_lexer": "ipython3",
   "version": "3.9.13"
  }
 },
 "nbformat": 4,
 "nbformat_minor": 2
}
