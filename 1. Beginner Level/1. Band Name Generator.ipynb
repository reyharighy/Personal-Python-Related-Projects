{
 "cells": [
  {
   "cell_type": "markdown",
   "metadata": {},
   "source": [
    "**This is intended to simulate how to work with variables in Python to manage data.**\n",
    "\n",
    "Here we have to deal with variables \"birth_city\" and \"pet_name\" that are going to be used in the generated band name result and pass it to the standard output for the user to read."
   ]
  },
  {
   "cell_type": "code",
   "execution_count": 1,
   "metadata": {},
   "outputs": [
    {
     "name": "stdout",
     "output_type": "stream",
     "text": [
      "Welcome to the band name generator\n",
      "Your band name could be \"Jakarta Ibel\".\n"
     ]
    }
   ],
   "source": [
    "print(\"Welcome to the band name generator\")\n",
    "birth_city = input(\"Which city did you grow up in?\") # Jakarta\n",
    "pet_name = input(\"What is the name of your pet?\") # Ibel\n",
    "print(f'Your band name could be \"{birth_city} {pet_name}\".') # Jakarta Ibel"
   ]
  }
 ],
 "metadata": {
  "kernelspec": {
   "display_name": "Python 3",
   "language": "python",
   "name": "python3"
  },
  "language_info": {
   "codemirror_mode": {
    "name": "ipython",
    "version": 3
   },
   "file_extension": ".py",
   "mimetype": "text/x-python",
   "name": "python",
   "nbconvert_exporter": "python",
   "pygments_lexer": "ipython3",
   "version": "3.9.13"
  }
 },
 "nbformat": 4,
 "nbformat_minor": 2
}
