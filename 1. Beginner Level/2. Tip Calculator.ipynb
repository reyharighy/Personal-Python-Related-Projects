{
 "cells": [
  {
   "cell_type": "markdown",
   "metadata": {},
   "source": [
    "## **Primitive Data Types in Python**\n",
    "\n",
    "There are 4 primitive data types in Python, which are String, Integer, Float, and Boolean.\n",
    "\n",
    "**String Data Types**\n",
    "\n",
    "When creating a string data type, we have to make them with a quote. As we can see below, a string data type could include quotation marks with either a single (' ') or double (\" \") type."
   ]
  },
  {
   "cell_type": "code",
   "execution_count": 10,
   "metadata": {},
   "outputs": [
    {
     "name": "stdout",
     "output_type": "stream",
     "text": [
      "The first string -> Hello\n",
      "The second string -> with a single quote\n",
      "A string with a single quote -> The girl answered her mother by saying, 'I don't want to go alone.'. She appeared to be shivering from the cold.\n",
      "A string with double quotes -> Rene Deschartes writes, \"I think; therefore I am\".\n"
     ]
    }
   ],
   "source": [
    "# string variables\n",
    "a_double_quote_string_data = \"Hello\" #the first string\n",
    "another_string_data = 'with a single quote' #the second string\n",
    "with_a_single_quote = \"The girl answered her mother by saying, 'I don't want to go alone.'. She appeared to be shivering from the cold.\" #include a single quote in a string\n",
    "with_double_quotes = 'Rene Deschartes writes, \"I think; therefore I am\".' #include a double quote in a string\n",
    "\n",
    "# print out all the strings above\n",
    "print(f\"The first string -> {a_double_quote_string_data}\")\n",
    "print(f\"The second string -> {another_string_data}\")\n",
    "print(f\"A string with a single quote -> {with_a_single_quote}\")\n",
    "print(f\"A string with double quotes -> {with_double_quotes}\")"
   ]
  },
  {
   "cell_type": "markdown",
   "metadata": {},
   "source": [
    "**Special Use Case of Triple Quotes**\n",
    "\n",
    "Spanning strings over multiple lines can be done using Python's triple quotes. It can also be used for long comments in code. Special characters like TABs, verbatim, or NEWLINEs can also be used within the triple quotes. Below is an example of using triple quotes stored in a variable. The text itself does not need to include any escape characters to make a new line of the passage, though including one of them is allowed."
   ]
  },
  {
   "cell_type": "code",
   "execution_count": 22,
   "metadata": {},
   "outputs": [
    {
     "name": "stdout",
     "output_type": "stream",
     "text": [
      "The first example of multiple lines string:\n",
      "This is the first line\n",
      "This is the second line\n",
      "\n",
      "The second example of multiple lines string:\n",
      "\"This course is very well structured and easy to learn. Anyone with \n",
      "zero experience of data science, python or ML can learn from this. \n",
      "This course makes things so easy that anybody can learn on their own. \n",
      "It's helping me a lot. Thanks for creating such a great course.\"\n",
      "\n",
      "Ayushi Jain | Placed at Microsoft\n"
     ]
    }
   ],
   "source": [
    "with_escape_characters = \"This is the first line\\nThis is the second line\"\n",
    "with_triple_quotes = \"\"\"\"This course is very well structured and easy to learn. Anyone with \n",
    "zero experience of data science, python or ML can learn from this. \n",
    "This course makes things so easy that anybody can learn on their own. \n",
    "It's helping me a lot. Thanks for creating such a great course.\"\\n\\nAyushi Jain | Placed at Microsoft\"\"\"\n",
    "\n",
    "# print out all the strings with triple quotes\n",
    "print(f\"The first example of multiple lines string:\\n{with_escape_characters}\\n\")\n",
    "print(f\"The second example of multiple lines string:\\n{with_triple_quotes}\")"
   ]
  },
  {
   "cell_type": "markdown",
   "metadata": {},
   "source": [
    "**Substring**\n",
    "\n",
    "Substrings inside a string can be accessed by using the square brackets that are positionally indexed. Note that the first index is accessed from 0, not 1. The selected characters could be slid by using ':' with the first character expressed on the left side while the last one is placed on the right. Note that the last positional index flags as the end without including the character. Lastly, the last character could be indexed with -1. Here are the examples as follows."
   ]
  },
  {
   "cell_type": "code",
   "execution_count": 26,
   "metadata": {},
   "outputs": [
    {
     "name": "stdout",
     "output_type": "stream",
     "text": [
      "The accessed string -> 'Hello'\n",
      "The first character -> 'H'\n",
      "The second chararacter -> 'e'\n",
      "The last character -> 'o'\n",
      "The last 3 characters -> 'llo'\n",
      "The middle character -> 'l'\n"
     ]
    }
   ],
   "source": [
    "the_variables = \"Hello\"\n",
    "the_first_char = the_variables[0]\n",
    "the_second_char = \"Hello\"[1]\n",
    "the_last_char = the_variables[-1]\n",
    "the_last_three_chars = the_variables[2:]\n",
    "the_middle_char = the_variables[2:3]\n",
    "\n",
    "# print out all the substring accessed by its indexes\n",
    "print(f\"The accessed string -> '{the_variables}'\")\n",
    "print(f\"The first character -> '{the_first_char}'\")\n",
    "print(f\"The second chararacter -> '{the_second_char}'\")\n",
    "print(f\"The last character -> '{the_last_char}'\")\n",
    "print(f\"The last 3 characters -> '{the_last_three_chars}'\")\n",
    "print(f\"The middle character -> '{the_middle_char}'\")"
   ]
  },
  {
   "cell_type": "markdown",
   "metadata": {},
   "source": [
    "**Operating Strings**\n",
    "\n",
    "A string in Python could include all characters and be treated as it is. That means a number that is typed as a string could not be arithmetically operated. We will talk about the numerical operation in another section. String-typed variables could be operated in many ways, such as conjugation, splitting, and many more. Note that, adding multiple numbered strings does not result in the mathematical calculation we used to have while splitting operations on a string creates a new data type of 'list'. Here are the possible operations imposed on the strings."
   ]
  },
  {
   "cell_type": "code",
   "execution_count": 41,
   "metadata": {},
   "outputs": [
    {
     "name": "stdout",
     "output_type": "stream",
     "text": [
      "Conjugation operation on multiple strings.\n",
      "Using '+' -> the first stringthe second string\n",
      "Using ',' -> the first string the second string\n",
      "Using f-string -> the first string the second string\n",
      "Perform addition on numbered strings -> 123456\n",
      "\n",
      "Splitting a string\n",
      "['the', 'first', 'string'] the data type ->\n",
      "<class 'list'>\n"
     ]
    }
   ],
   "source": [
    "first_variable = \"the first string\"\n",
    "second_variable = \"the second string\"\n",
    "first_numbers = \"123\"\n",
    "second_numbers = \"456\"\n",
    "\n",
    "# perform a conjugation to multiple string variables\n",
    "print(\"Conjugation operation on multiple strings.\")\n",
    "print(\"Using '+' ->\", first_variable + second_variable)\n",
    "print(\"Using ',' ->\", first_variable, second_variable)\n",
    "print(\"Using f-string ->\", f\"{first_variable} {second_variable}\")\n",
    "print(\"Perform addition on numbered strings ->\", first_numbers + second_numbers)\n",
    "\n",
    "# split a string\n",
    "print(\"\\nSplitting a string\")\n",
    "print(first_variable.split(), \"the data type ->\")\n",
    "print(type(first_variable.split()))"
   ]
  },
  {
   "cell_type": "markdown",
   "metadata": {},
   "source": [
    "**Integer Data Types**\n",
    "\n",
    "Integer data types would behave as it is, such as a whole number, positive or negative, without decimals, and of unlimited length. The following are valid integer literals in Python."
   ]
  },
  {
   "cell_type": "code",
   "execution_count": 46,
   "metadata": {},
   "outputs": [
    {
     "name": "stdout",
     "output_type": "stream",
     "text": [
      "Zero number -> '0'\n",
      "A positve number -> '100'\n",
      "A negative number -> '-10'\n",
      "A whole number -> '1234567890'\n",
      "A really long number -> '5000000000000000000000000000000000000000000000000000000'\n"
     ]
    }
   ],
   "source": [
    "x = 0\n",
    "positive_int = 100\n",
    "negative_int = -10\n",
    "a_whole_number = 1234567890\n",
    "unlimited_length_int = 5000000000000000000000000000000000000000000000000000000\n",
    "\n",
    "# print out all integers above\n",
    "print(f\"Zero number -> '{x}'\")\n",
    "print(f\"A positve number -> '{positive_int}'\")\n",
    "print(f\"A negative number -> '{negative_int}'\")\n",
    "print(f\"A whole number -> '{a_whole_number}'\")\n",
    "print(f\"A really long number -> '{unlimited_length_int}'\")"
   ]
  },
  {
   "cell_type": "markdown",
   "metadata": {},
   "source": [
    "**Underscore Special Character**\n",
    "\n",
    "We can use a special underscore character '_' expressed directly between integer variables as a delimiter. This way could be applied in a long number to make the integer-typed number easier to read without affecting any derived functionality."
   ]
  },
  {
   "cell_type": "code",
   "execution_count": 51,
   "metadata": {},
   "outputs": [
    {
     "name": "stdout",
     "output_type": "stream",
     "text": [
      "The output without underscore -> 1000000\n",
      "The output with underscore -> 1000000\n"
     ]
    }
   ],
   "source": [
    "a_million = 1000000\n",
    "with_underscore = 1_000_000\n",
    "\n",
    "# print out the integer special case\n",
    "print(f\"The output without underscore -> {a_million}\")\n",
    "print(f\"The output with underscore -> {with_underscore}\")"
   ]
  },
  {
   "cell_type": "markdown",
   "metadata": {},
   "source": [
    "**Other Base Number Systems**\n",
    "\n",
    "The colloquial usage of a number system is for describing decimal-type numbers while, in Python, we can use other base systems, such as binary, octal, and hexadecimal with a special character included. When printing out the other base systems, we automatically get the decimal type as for the readability purpose."
   ]
  },
  {
   "cell_type": "code",
   "execution_count": 52,
   "metadata": {},
   "outputs": [
    {
     "name": "stdout",
     "output_type": "stream",
     "text": [
      "Binary Systems -> 15\n",
      "Octal Systems -> 10\n",
      "Hexadecimal Systems -> 18\n"
     ]
    }
   ],
   "source": [
    "binary = 0b1111\n",
    "octal = 0o12\n",
    "hexadecimal = 0x12\n",
    "\n",
    "# print out other base number systems\n",
    "print(f\"Binary Systems -> {binary}\")\n",
    "print(f\"Octal Systems -> {octal}\")\n",
    "print(f\"Hexadecimal Systems -> {hexadecimal}\")"
   ]
  }
 ],
 "metadata": {
  "kernelspec": {
   "display_name": "Python 3",
   "language": "python",
   "name": "python3"
  },
  "language_info": {
   "codemirror_mode": {
    "name": "ipython",
    "version": 3
   },
   "file_extension": ".py",
   "mimetype": "text/x-python",
   "name": "python",
   "nbconvert_exporter": "python",
   "pygments_lexer": "ipython3",
   "version": "3.9.13"
  }
 },
 "nbformat": 4,
 "nbformat_minor": 2
}
