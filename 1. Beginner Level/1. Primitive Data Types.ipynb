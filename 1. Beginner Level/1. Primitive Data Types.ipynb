{
 "cells": [
  {
   "cell_type": "markdown",
   "metadata": {},
   "source": [
    "## **Working with Variables**\n",
    "\n",
    "Working with variables in Python involves various built-in functions and special constructs that make handling and manipulating data straightforward and efficient.\n",
    "\n",
    "**Built-in Functions**\n",
    "\n",
    "There are functions that are always available in Python without needing to import any module. For example:\n",
    "1. `input()`: Reads a line from input, usually from the user.\n",
    "2. `print()`: Outputs the specified message to the console or other standard output device.\n",
    "3. `type()`: Returns the type of the specified object.\n",
    "4. `round()`: Rounds a floating-point number to a specified number of digits.\n",
    "\n",
    "**Special Constructs**\n",
    "1. F-string (`f\"\"`): A special syntax introduced in Python 3.6 or above for string formatting. It allows embedding expressions inside string literals using curly braces `{}`. This enables dynamic insertion of values and expressions directly within the string.\n",
    "2. Format Method (`str.format()`): Allows you to format strings by inserting variables or expressions into placeholders marked by curly braces `{}` within the string. If the specified curly braces are more than one, then the placeholders are applied consecutively."
   ]
  },
  {
   "cell_type": "code",
   "execution_count": 1,
   "metadata": {},
   "outputs": [
    {
     "name": "stdout",
     "output_type": "stream",
     "text": [
      "Data type of the variable from the user -> <class 'str'>\n",
      "The data of variable from the user's input -> the data\n"
     ]
    }
   ],
   "source": [
    "variable_from_user_input = input(\"Input your data in this variabe\") # result in string data type\n",
    "print(f\"Data type of the variable from the user -> {type(variable_from_user_input)}\")\n",
    "print(f\"The data of variable from the user's input -> {variable_from_user_input}\")"
   ]
  },
  {
   "cell_type": "markdown",
   "metadata": {},
   "source": [
    "## **Primitive Data Types in Python**\n",
    "\n",
    "There are 4 primitive data types in Python: String, Integer, Float, and Boolean.\n",
    "\n",
    "**String Data Types**\n",
    "\n",
    "When creating a string data type, we have to enclose the text in quotes. A string data type can be defined using either single quotes (`' '`) or double quotes (`\" \"`). Additionally, there are many ways to manipulate strings, including the use of nested single or double quotes with the help of an escape character (`\\`). Here are the possible ways that are valid in Python:"
   ]
  },
  {
   "cell_type": "code",
   "execution_count": 2,
   "metadata": {},
   "outputs": [
    {
     "name": "stdout",
     "output_type": "stream",
     "text": [
      "The first string -> Hello\n",
      "The second string -> with a single quote\n",
      "A string with a single quote -> The girl answered her mother by saying, 'I don't want to go alone.'. She appeared to be shivering from the cold.\n",
      "A string with double quotes -> Rene Deschartes writes, \"I think; therefore I am\".\n",
      "A string with single quotes using escape chars -> Here is the example of using 'escape' characters inside a single-quoted string\n",
      "A string with double quotes using escape chars -> Alternatively, we can use \"escape\" characters inside a double-quoted string\n",
      "<class 'str'>\n"
     ]
    }
   ],
   "source": [
    "a_double_quote_string_data = \"Hello\"\n",
    "another_string_data = 'with a single quote'\n",
    "with_a_single_quote = \"The girl answered her mother by saying, 'I don't want to go alone.'. She appeared to be shivering from the cold.\"\n",
    "with_double_quotes = 'Rene Deschartes writes, \"I think; therefore I am\".'\n",
    "nested_single_quotes = 'Here is the example of using \\'escape\\' characters inside a single-quoted string'\n",
    "nested_double_quotes = \"Alternatively, we can use \\\"escape\\\" characters inside a double-quoted string\"\n",
    "\n",
    "# print out all the strings above\n",
    "print(f\"The first string -> {a_double_quote_string_data}\")\n",
    "print(f\"The second string -> {another_string_data}\")\n",
    "print(f\"A string with a single quote -> {with_a_single_quote}\")\n",
    "print(f\"A string with double quotes -> {with_double_quotes}\")\n",
    "print(f\"A string with single quotes using escape chars -> {nested_single_quotes}\")\n",
    "print(f\"A string with double quotes using escape chars -> {nested_double_quotes}\")\n",
    "print(type(\"a string\"))"
   ]
  },
  {
   "cell_type": "markdown",
   "metadata": {},
   "source": [
    "**Special Use Case of Triple Quotes**\n",
    "\n",
    "Spanning strings over multiple lines can be done using Python's triple quotes. It can also be used for long comments in code. Special characters like TABs, verbatim, or NEWLINEs can also be used within the triple quotes. Below is an example of using triple quotes stored in a variable. The text itself does not need to include any escape characters to make a new line of the passage, though including them is allowed."
   ]
  },
  {
   "cell_type": "code",
   "execution_count": 3,
   "metadata": {},
   "outputs": [
    {
     "name": "stdout",
     "output_type": "stream",
     "text": [
      "The first example of multiple lines string:\n",
      "This is the first line\n",
      "This is the second line\n",
      "\n",
      "The second example of multiple lines string:\n",
      "\"This course is very well structured and easy to learn. Anyone with \n",
      "zero experience of data science, python or ML can learn from this. \n",
      "This course makes things so easy that anybody can learn on their own. \n",
      "It's helping me a lot. Thanks for creating such a great course.\"\n",
      "\n",
      "Ayushi Jain | Placed at Microsoft\n"
     ]
    }
   ],
   "source": [
    "with_escape_characters = \"This is the first line\\nThis is the second line\"\n",
    "with_triple_quotes = \"\"\"\"This course is very well structured and easy to learn. Anyone with \n",
    "zero experience of data science, python or ML can learn from this. \n",
    "This course makes things so easy that anybody can learn on their own. \n",
    "It's helping me a lot. Thanks for creating such a great course.\"\\n\\nAyushi Jain | Placed at Microsoft\"\"\"\n",
    "\n",
    "# print out all the strings with triple quotes\n",
    "print(f\"The first example of multiple lines string:\\n{with_escape_characters}\\n\")\n",
    "print(f\"The second example of multiple lines string:\\n{with_triple_quotes}\")"
   ]
  },
  {
   "cell_type": "markdown",
   "metadata": {},
   "source": [
    "**Substring**\n",
    "\n",
    "Substrings within a string can be accessed using square brackets and positional indexing. Note that the first index starts at 0, not 1. Selected characters can be sliced using the `:` operator, with the starting index on the left side and the ending index on the right. Note that the ending index specifies the position just after the last character to be included, meaning the character at the ending index is not included in the substring. Additionally, the last character of a string can be indexed with -1. Here are some examples:"
   ]
  },
  {
   "cell_type": "code",
   "execution_count": 4,
   "metadata": {},
   "outputs": [
    {
     "name": "stdout",
     "output_type": "stream",
     "text": [
      "The accessed string -> 'Hello'\n",
      "The first character -> 'H'\n",
      "The second chararacter -> 'e'\n",
      "The last character -> 'o'\n",
      "The last 3 characters -> 'llo'\n",
      "The middle character -> 'l'\n"
     ]
    }
   ],
   "source": [
    "the_variables = \"Hello\"\n",
    "the_first_char = the_variables[0]\n",
    "the_second_char = \"Hello\"[1]\n",
    "the_last_char = the_variables[-1]\n",
    "the_last_three_chars = the_variables[2:]\n",
    "the_middle_char = the_variables[2:3]\n",
    "\n",
    "# print out all the substring accessed by its indexes\n",
    "print(f\"The accessed string -> '{the_variables}'\")\n",
    "print(f\"The first character -> '{the_first_char}'\")\n",
    "print(f\"The second chararacter -> '{the_second_char}'\")\n",
    "print(f\"The last character -> '{the_last_char}'\")\n",
    "print(f\"The last 3 characters -> '{the_last_three_chars}'\")\n",
    "print(f\"The middle character -> '{the_middle_char}'\")"
   ]
  },
  {
   "cell_type": "markdown",
   "metadata": {},
   "source": [
    "**String Manipulation**\n",
    "\n",
    "In Python, a string can include all characters and is treated as a sequence of characters. This means a number represented as a string cannot be used in arithmetic operations. We will discuss numerical operations in another section. String-typed variables can be manipulated in many ways, such as concatenation, splitting, and more. Note that adding multiple numeric strings does not perform a mathematical calculation; instead, it concatenates them. The `split()` method divides a string into a list of substrings based on a specified delimiter. Here are some examples of string operations:"
   ]
  },
  {
   "cell_type": "code",
   "execution_count": 5,
   "metadata": {},
   "outputs": [
    {
     "name": "stdout",
     "output_type": "stream",
     "text": [
      "Conjugation operation on multiple strings.\n",
      "Using '+' -> the first stringthe second string\n",
      "Using ',' -> the first string the second string\n",
      "Using f-string -> the first string the second string\n",
      "Perform addition on numbered strings -> 123456\n",
      "\n",
      "Splitting a string\n",
      "['the', 'first', 'string']\n",
      "the data type -> <class 'list'>\n"
     ]
    }
   ],
   "source": [
    "first_variable = \"the first string\"\n",
    "second_variable = \"the second string\"\n",
    "first_numbers = \"123\"\n",
    "second_numbers = \"456\"\n",
    "\n",
    "# perform a conjugation to multiple string variables\n",
    "print(\"Conjugation operation on multiple strings.\")\n",
    "print(\"Using '+' ->\", first_variable + second_variable)\n",
    "print(\"Using ',' ->\", first_variable, second_variable)\n",
    "print(\"Using f-string ->\", f\"{first_variable} {second_variable}\")\n",
    "print(\"Perform addition on numbered strings ->\", first_numbers + second_numbers)\n",
    "\n",
    "# split a string\n",
    "print(\"\\nSplitting a string\")\n",
    "print(first_variable.split()) # by default split the string by space\n",
    "print(\"the data type ->\", type(first_variable.split()))"
   ]
  },
  {
   "cell_type": "markdown",
   "metadata": {},
   "source": [
    "**Integer Data Types**\n",
    "\n",
    "In Python, integers behave as whole numbers, positive or negative, without decimals, and can be of unlimited length. Leading zeros are not allowed for non-zero integers (e.g., `00123` is invalid and becomes `123`). However, the integer `0` retains its value despite any leading zeros (`0000` remains `0`). Below are examples of valid integer literals in Python:"
   ]
  },
  {
   "cell_type": "code",
   "execution_count": 6,
   "metadata": {},
   "outputs": [
    {
     "name": "stdout",
     "output_type": "stream",
     "text": [
      "Zero number -> '0' & '0'\n",
      "Positve number -> '100'\n",
      "Negative number -> '-10'\n",
      "A whole number -> '1234567890'\n",
      "A really long number -> '5000000000000000000000000000000000000000000000000000000'\n",
      "<class 'int'>\n"
     ]
    }
   ],
   "source": [
    "zero = 0\n",
    "zeros = 0000\n",
    "positive_int = 100\n",
    "negative_int = -10\n",
    "a_whole_number = 1234567890\n",
    "unlimited_length_int = 5000000000000000000000000000000000000000000000000000000\n",
    "\n",
    "# print out all integers above\n",
    "print(f\"Zero number -> '{zero}' & '{zeros}'\")\n",
    "print(f\"Positve number -> '{positive_int}'\")\n",
    "print(f\"Negative number -> '{negative_int}'\")\n",
    "print(f\"A whole number -> '{a_whole_number}'\")\n",
    "print(f\"A really long number -> '{unlimited_length_int}'\")\n",
    "print(type(1))"
   ]
  },
  {
   "cell_type": "markdown",
   "metadata": {},
   "source": [
    "**Underscore Special Character**\n",
    "\n",
    "In Python, we can use the special underscore character `_` directly within integer literals as a delimiter. This technique can be applied to long numbers to enhance readability without affecting their value or functionality. For example:"
   ]
  },
  {
   "cell_type": "code",
   "execution_count": 7,
   "metadata": {},
   "outputs": [
    {
     "name": "stdout",
     "output_type": "stream",
     "text": [
      "The output without underscore -> 1000000\n",
      "The output with underscore -> 1000000\n"
     ]
    }
   ],
   "source": [
    "a_million = 1000000\n",
    "with_underscore = 1_000_000\n",
    "\n",
    "# print out the integer special case\n",
    "print(f\"The output without underscore -> {a_million}\")\n",
    "print(f\"The output with underscore -> {with_underscore}\")"
   ]
  },
  {
   "cell_type": "markdown",
   "metadata": {},
   "source": [
    "**Other Base Number Systems**\n",
    "\n",
    "While the colloquial usage of number systems typically refers to decimal numbers, Python allows us to work with other base systems such as binary, octal, and hexadecimal using special prefixes. When printing out these numbers, Python automatically converts them to decimal for readability purposes. Here are examples of how these systems can be represented in Python:"
   ]
  },
  {
   "cell_type": "code",
   "execution_count": 8,
   "metadata": {},
   "outputs": [
    {
     "name": "stdout",
     "output_type": "stream",
     "text": [
      "Binary Systems -> 15\n",
      "Octal Systems -> 10\n",
      "Hexadecimal Systems -> 18\n"
     ]
    }
   ],
   "source": [
    "binary = 0b1111\n",
    "octal = 0o12\n",
    "hexadecimal = 0x12\n",
    "\n",
    "# print out other base number systems\n",
    "print(f\"Binary Systems -> {binary}\")\n",
    "print(f\"Octal Systems -> {octal}\")\n",
    "print(f\"Hexadecimal Systems -> {hexadecimal}\")"
   ]
  },
  {
   "cell_type": "markdown",
   "metadata": {},
   "source": [
    "**Converting to Integers**\n",
    "\n",
    "The `int()` function converts other type than integers into integers."
   ]
  },
  {
   "cell_type": "code",
   "execution_count": 9,
   "metadata": {},
   "outputs": [
    {
     "name": "stdout",
     "output_type": "stream",
     "text": [
      "Float into Integer -> <class 'float'> into <class 'int'>. The value becomes 3\n",
      "String into Integer -> <class 'str'> into <class 'int'>. The value becomes 123\n"
     ]
    }
   ],
   "source": [
    "float_data = 3.1459\n",
    "string_data = '123'\n",
    "\n",
    "# print out the conversion result\n",
    "print(f\"Float into Integer -> {type(float_data)} into {type(int(float_data))}. The value becomes {int(float_data)}\")\n",
    "print(f\"String into Integer -> {type(string_data)} into {type(int(string_data))}. The value becomes {int(string_data)}\")"
   ]
  },
  {
   "cell_type": "markdown",
   "metadata": {},
   "source": [
    "**Float Data Types**\n",
    "\n",
    "Floating numbers can be positive or negative real numbers with a fractional part denoted by '.' symbol. It can be that of scientific notation 'e' as well. Here are the examples of floating point number expressions. Note that the underscore symbols could be used as well for better readability as it does with integer variables."
   ]
  },
  {
   "cell_type": "code",
   "execution_count": 10,
   "metadata": {},
   "outputs": [
    {
     "name": "stdout",
     "output_type": "stream",
     "text": [
      "Positive number -> 1.42\n",
      "Negative number -> -1.42\n",
      "A really long number -> 1000134564.3145\n"
     ]
    }
   ],
   "source": [
    "positive_float = 1.42\n",
    "negative_float = -1.42\n",
    "with_delimiter = 1_000_134_564.3145\n",
    "\n",
    "# print out all the floats above\n",
    "print(f\"Positive number -> {positive_float}\")\n",
    "print(f\"Negative number -> {negative_float}\")\n",
    "print(f\"A really long number -> {with_delimiter}\")"
   ]
  },
  {
   "cell_type": "markdown",
   "metadata": {},
   "source": [
    "**Scientific Numbers**\n",
    "\n",
    "Scientific notation is used as a short representation to express floats having many digits as stated in the previous section. All numbers applied with this special character would automatically converted into float data type."
   ]
  },
  {
   "cell_type": "code",
   "execution_count": 11,
   "metadata": {},
   "outputs": [
    {
     "name": "stdout",
     "output_type": "stream",
     "text": [
      "A thousand float-type -> 1000.0\n",
      "A million float-type -> 1000000.0\n",
      "Float number from scientific-noted number -> 1234.56789 (1.23456789e3)\n",
      "Infinity -> inf (1e10000)\n"
     ]
    }
   ],
   "source": [
    "a_thousand = 1e3\n",
    "a_million = 1e6\n",
    "another_example = 1.23456789e3\n",
    "infinity = 1e10000\n",
    "\n",
    "# print out all scientific numbers\n",
    "print(f\"A thousand float-type -> {a_thousand}\")\n",
    "print(f\"A million float-type -> {a_million}\")\n",
    "print(f\"Float number from scientific-noted number -> {another_example} (1.23456789e3)\")\n",
    "print(f\"Infinity -> {infinity} (1e10000)\")"
   ]
  },
  {
   "cell_type": "markdown",
   "metadata": {},
   "source": [
    "**Converting to Floats**\n",
    "\n",
    "The `float()` function converts other types than float into a float. Unlike `int()` function, it has many flexibilities, especially converting a string. For example, a string of float-typed \"3.1459\" could not be accepted by `int()` function unless it has the base of 10 (e.g. '13', '59', '100')."
   ]
  },
  {
   "cell_type": "code",
   "execution_count": 12,
   "metadata": {},
   "outputs": [
    {
     "name": "stdout",
     "output_type": "stream",
     "text": [
      "Float into Integer -> <class 'int'> into <class 'float'>. The value becomes 1.0\n",
      "String into Integer -> <class 'str'> into <class 'float'>. The value becomes 3.0\n",
      "A float-typed string into Integer -> <class 'str'> into <class 'float'>. The value becomes 3.1459\n",
      "A scientific-noted string into Integer -> <class 'str'> into <class 'float'>. The value becomes 314.59\n"
     ]
    }
   ],
   "source": [
    "int_data = 1\n",
    "string_data = '3'\n",
    "string_with_floats = '3.1459'\n",
    "string_with_sci_notation = '3.1459e2'\n",
    "\n",
    "# print out\n",
    "print(f\"Float into Integer -> {type(int_data)} into {type(float(int_data))}. The value becomes {float(int_data)}\")\n",
    "print(f\"String into Integer -> {type(string_data)} into {type(float(string_data))}. The value becomes {float(string_data)}\")\n",
    "print(f\"A float-typed string into Integer -> {type(string_with_floats)} into {type(float(string_with_floats))}. The value becomes {float(string_with_floats)}\")\n",
    "print(f\"A scientific-noted string into Integer -> {type(string_with_sci_notation)} into {type(float(string_with_sci_notation))}. The value becomes {float(string_with_sci_notation)}\")"
   ]
  },
  {
   "cell_type": "markdown",
   "metadata": {},
   "source": [
    "**Arithmetic Operators on Numbers**\n",
    "\n",
    "The arithmetic operators could be applied either on integers or floats. Note that the division operation from two integers would automatically result in float data type. While interacting with at least one float-typed operand, the result would be in float data type as well."
   ]
  },
  {
   "cell_type": "code",
   "execution_count": 13,
   "metadata": {},
   "outputs": [
    {
     "name": "stdout",
     "output_type": "stream",
     "text": [
      "The addition of both integers -> 12 (<class 'int'>) and of at least one float -> 10.5 (<class 'float'>)\n",
      "The substraction of both integers -> 8 (<class 'int'>) and of at least one float -> 9.5 (<class 'float'>)\n",
      "The multiplication of both integers -> 20 (<class 'int'>) and of at least one float -> 5.0 (<class 'float'>)\n",
      "The division of both integers (left by right) -> 5.0 (<class 'float'>) and of at least one float (left by right) -> 20.0 (<class 'float'>)\n",
      "The modulus of both integers (left by right) -> 0 (<class 'int'>) and of at least one float (left by right) -> 0.0 (<class 'float'>)\n",
      "The exponent of both integers (left by right) -> 100 (<class 'int'>) and of at least one float (left by right) -> 3.1622776601683795 (<class 'float'>)\n",
      "The floor division of both integers (left by right) -> 5 (<class 'int'>) and of at least one float (left by right) -> 20.0 (<class 'float'>)\n"
     ]
    }
   ],
   "source": [
    "a = 10\n",
    "b = 2\n",
    "c = 0.5\n",
    "\n",
    "# print out\n",
    "print(f\"The addition of both integers -> {a + b} ({type(a + b)}) and of at least one float -> {a + c} ({type(a + c)})\")\n",
    "print(f\"The substraction of both integers -> {a - b} ({type(a - b)}) and of at least one float -> {a - c} ({type(a - c)})\")\n",
    "print(f\"The multiplication of both integers -> {a * b} ({type(a * b)}) and of at least one float -> {a * c} ({type(a * c)})\")\n",
    "print(f\"The division of both integers (left by right) -> {a / b} ({type(a / b)}) and of at least one float (left by right) -> {a / c} ({type(a / c)})\")\n",
    "print(f\"The modulus of both integers (left by right) -> {a % b} ({type(a % b)}) and of at least one float (left by right) -> {a % c} ({type(a % c)})\")\n",
    "print(f\"The exponent of both integers (left by right) -> {a ** b} ({type(a ** b)}) and of at least one float (left by right) -> {a ** c} ({type(a ** c)})\")\n",
    "print(f\"The floor division of both integers (left by right) -> {a // b} ({type(a // b)}) and of at least one float (left by right) -> {a // c} ({type(a // c)})\")"
   ]
  },
  {
   "cell_type": "markdown",
   "metadata": {},
   "source": [
    "**Boolean Data Types**\n",
    "\n",
    "This type of data only has two possible values, which are `True` or `False`. Note that this type is going to be used a lot in the programs to test either something is true or false for your program to respond accordingly."
   ]
  },
  {
   "cell_type": "code",
   "execution_count": 14,
   "metadata": {},
   "outputs": [
    {
     "name": "stdout",
     "output_type": "stream",
     "text": [
      "True\n",
      "False\n",
      "<class 'bool'>\n"
     ]
    }
   ],
   "source": [
    "print(True)\n",
    "print(False)\n",
    "print(type(True))"
   ]
  },
  {
   "cell_type": "markdown",
   "metadata": {},
   "source": [
    "## **PROJECT: The Tip Calculator**\n",
    "\n",
    "Here is the project that applies all tasks related to this notebook. Note that we use `round()` to round the final calculation to have only 2 fractional points."
   ]
  },
  {
   "cell_type": "code",
   "execution_count": 15,
   "metadata": {},
   "outputs": [
    {
     "name": "stdout",
     "output_type": "stream",
     "text": [
      "The total bill is $ 341.43.\n",
      "The tip given is 10 %.\n",
      "There are 5 people.\n",
      "Thus, each person should pay $ 75.11.\n"
     ]
    }
   ],
   "source": [
    "# variables\n",
    "total_bill = float(input('What was the total bill? => $'))\n",
    "tip = int(input(\"How much percent tip would you like to give? => \"))\n",
    "total_people = int(input(\"How many people to split the bill? => \"))\n",
    "\n",
    "# calculation\n",
    "percent_tip = tip / 100\n",
    "total_tip = percent_tip * total_bill\n",
    "bill_with_tip = total_bill + total_tip\n",
    "bill_per_person = bill_with_tip / total_people\n",
    "\n",
    "# print out each step\n",
    "print(f\"The total bill is $ {total_bill}.\")\n",
    "print(f\"The tip given is {tip} %.\")\n",
    "print(f\"There are {total_people} people.\")\n",
    "print(\"Thus, each person should pay $ {}.\".format(round(bill_per_person, 2))) # round the result into 2 fractional digits"
   ]
  }
 ],
 "metadata": {
  "kernelspec": {
   "display_name": "Python 3",
   "language": "python",
   "name": "python3"
  },
  "language_info": {
   "codemirror_mode": {
    "name": "ipython",
    "version": 3
   },
   "file_extension": ".py",
   "mimetype": "text/x-python",
   "name": "python",
   "nbconvert_exporter": "python",
   "pygments_lexer": "ipython3",
   "version": "3.9.13"
  }
 },
 "nbformat": 4,
 "nbformat_minor": 2
}
